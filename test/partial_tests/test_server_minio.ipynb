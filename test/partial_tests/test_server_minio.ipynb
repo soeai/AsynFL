{
 "cells": [
  {
   "cell_type": "code",
   "execution_count": 1,
   "metadata": {},
   "outputs": [],
   "source": [
    "import os, sys\n",
    "# asynfed/server/test_server_minio.ipynb\n",
    "root = os.path.dirname(os.path.dirname(os.getcwd()))\n",
    "# root = os.path.dirname(os.path.dirname(os.path.dirname(os.getcwd())))\n",
    "sys.path.append(root)"
   ]
  },
  {
   "cell_type": "code",
   "execution_count": 2,
   "metadata": {},
   "outputs": [],
   "source": [
    "# from server_minio_storage_connector import ServerStorageMinio\n",
    "\n",
    "from asynfed.server import ServerStorageMinio"
   ]
  },
  {
   "cell_type": "code",
   "execution_count": 3,
   "metadata": {},
   "outputs": [],
   "source": [
    "\n",
    "minio_config = {\n",
    "    \"access_key\": \"admin_user\",\n",
    "    \"secret_key\": \"admin_pass\",\n",
    "    # \"access_key\": \"minioadmin\",\n",
    "    # \"secret_key\": \"minioadmin\",\n",
    "\n",
    "\n",
    "    \"client_access_key\": \"SvHMihg4xVhwFUC3YM53\",\n",
    "    \"client_secret_key\": \"N6iU1JdI8U5htd1jBwzb9moXf2S8hOtE1AD7ajwX\",\n",
    "    \n",
    "    \"bucket_name\": \"test-aggregating-formula\",\n",
    "    # \"endpoint_url\": \"http://localhost:9000\"\n",
    "    \"endpoint_url\": \"http://128.214.254.126:9000\",\n",
    "    # \"endpoint_url\": \"http://localhost:9000\",\n",
    "    # \"endpoint_url\": \"http://192.168.10.234:9000\",\n",
    "    \"region_name\": \"ap-southeast-2\"\n",
    "}\n",
    "\n"
   ]
  },
  {
   "cell_type": "code",
   "execution_count": 4,
   "metadata": {},
   "outputs": [],
   "source": [
    "server_minio = ServerStorageMinio(minio_config= minio_config)"
   ]
  },
  {
   "cell_type": "code",
   "execution_count": 5,
   "metadata": {},
   "outputs": [],
   "source": [
    "server_minio.create_bucket()"
   ]
  },
  {
   "cell_type": "code",
   "execution_count": 6,
   "metadata": {},
   "outputs": [
    {
     "data": {
      "text/plain": [
       "(9,\n",
       " ['clients/234-gpu-2/234-gpu-2_v10.pkl',\n",
       "  'clients/234-gpu-2/234-gpu-2_v11.pkl',\n",
       "  'clients/234-gpu-2/234-gpu-2_v12.pkl',\n",
       "  'clients/234-gpu-2/234-gpu-2_v13.pkl',\n",
       "  'clients/234-gpu-2/234-gpu-2_v14.pkl',\n",
       "  'clients/234-gpu-2/234-gpu-2_v15.pkl',\n",
       "  'clients/234-gpu-2/234-gpu-2_v16.pkl',\n",
       "  'clients/234-gpu-2/234-gpu-2_v17.pkl',\n",
       "  'clients/234-gpu-2/234-gpu-2_v9.pkl'])"
      ]
     },
     "execution_count": 6,
     "metadata": {},
     "output_type": "execute_result"
    }
   ],
   "source": [
    "files = server_minio.list_files(\"clients\", \"234-gpu-2\")\n",
    "len(files), files"
   ]
  },
  {
   "cell_type": "code",
   "execution_count": 7,
   "metadata": {},
   "outputs": [
    {
     "data": {
      "text/plain": [
       "(12, False)"
      ]
     },
     "execution_count": 7,
     "metadata": {},
     "output_type": "execute_result"
    }
   ],
   "source": [
    "current_version = 11\n",
    "\n",
    "file = files[2]\n",
    "\n",
    "version = int(file.split(\"_\")[-1].split(\".\")[0].split(\"v\")[-1])\n",
    "version, version < current_version\n",
    " "
   ]
  },
  {
   "cell_type": "code",
   "execution_count": 8,
   "metadata": {},
   "outputs": [
    {
     "data": {
      "text/plain": [
       "['clients/234-gpu-2/234-gpu-2_v10.pkl', 'clients/234-gpu-2/234-gpu-2_v9.pkl']"
      ]
     },
     "execution_count": 8,
     "metadata": {},
     "output_type": "execute_result"
    }
   ],
   "source": [
    "delete_list = [file for file in files if int(file.split(\"_\")[-1].split(\".\")[0].split(\"v\")[-1]) < current_version]\n",
    "delete_list"
   ]
  },
  {
   "cell_type": "code",
   "execution_count": 11,
   "metadata": {},
   "outputs": [
    {
     "data": {
      "text/plain": [
       "True"
      ]
     },
     "execution_count": 11,
     "metadata": {},
     "output_type": "execute_result"
    }
   ],
   "source": [
    "server_minio.delete_files(delete_list)"
   ]
  },
  {
   "cell_type": "code",
   "execution_count": null,
   "metadata": {},
   "outputs": [],
   "source": []
  }
 ],
 "metadata": {
  "kernelspec": {
   "display_name": "asynfed",
   "language": "python",
   "name": "python3"
  },
  "language_info": {
   "codemirror_mode": {
    "name": "ipython",
    "version": 3
   },
   "file_extension": ".py",
   "mimetype": "text/x-python",
   "name": "python",
   "nbconvert_exporter": "python",
   "pygments_lexer": "ipython3",
   "version": "3.8.16"
  },
  "orig_nbformat": 4
 },
 "nbformat": 4,
 "nbformat_minor": 2
}
