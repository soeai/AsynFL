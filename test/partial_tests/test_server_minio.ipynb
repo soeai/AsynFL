{
 "cells": [
  {
   "cell_type": "code",
   "execution_count": 1,
   "metadata": {},
   "outputs": [],
   "source": [
    "import os, sys\n",
    "# asynfed/server/test_server_minio.ipynb\n",
    "root = os.path.dirname(os.path.dirname(os.getcwd()))\n",
    "# root = os.path.dirname(os.path.dirname(os.path.dirname(os.getcwd())))\n",
    "sys.path.append(root)"
   ]
  },
  {
   "cell_type": "code",
   "execution_count": 2,
   "metadata": {},
   "outputs": [],
   "source": [
    "# from server_minio_storage_connector import ServerStorageMinio\n",
    "\n",
    "from asynfed.server import ServerStorageMinio"
   ]
  },
  {
   "cell_type": "code",
   "execution_count": 3,
   "metadata": {},
   "outputs": [],
   "source": [
    "\n",
    "minio_config = {\n",
    "    \"access_key\": \"admin_user\",\n",
    "    \"secret_key\": \"admin_pass\",\n",
    "    # \"access_key\": \"minioadmin\",\n",
    "    # \"secret_key\": \"minioadmin\",\n",
    "\n",
    "\n",
    "    \"client_access_key\": \"SvHMihg4xVhwFUC3YM53\",\n",
    "    \"client_secret_key\": \"N6iU1JdI8U5htd1jBwzb9moXf2S8hOtE1AD7ajwX\",\n",
    "    \n",
    "    \"bucket_name\": \"cifar10-5-chunks\",\n",
    "    # \"bucket_name\": \"test-aggregating-formula\",\n",
    "    # \"endpoint_url\": \"http://localhost:9000\"\n",
    "    \"endpoint_url\": \"http://128.214.254.126:9000\",\n",
    "    # \"endpoint_url\": \"http://localhost:9000\",\n",
    "    # \"endpoint_url\": \"http://192.168.10.234:9000\",\n",
    "    \"region_name\": \"ap-southeast-2\"\n",
    "}\n",
    "\n"
   ]
  },
  {
   "cell_type": "code",
   "execution_count": 4,
   "metadata": {},
   "outputs": [],
   "source": [
    "server_minio = ServerStorageMinio(minio_config= minio_config)"
   ]
  },
  {
   "cell_type": "code",
   "execution_count": 5,
   "metadata": {},
   "outputs": [],
   "source": [
    "server_minio.create_bucket()"
   ]
  },
  {
   "cell_type": "code",
   "execution_count": 6,
   "metadata": {},
   "outputs": [
    {
     "data": {
      "text/plain": [
       "(66,\n",
       " ['clients/234-gpu-2/234-gpu-2_v100.pkl',\n",
       "  'clients/234-gpu-2/234-gpu-2_v101.pkl',\n",
       "  'clients/234-gpu-2/234-gpu-2_v102.pkl',\n",
       "  'clients/234-gpu-2/234-gpu-2_v103.pkl',\n",
       "  'clients/234-gpu-2/234-gpu-2_v104.pkl',\n",
       "  'clients/234-gpu-2/234-gpu-2_v105.pkl',\n",
       "  'clients/234-gpu-2/234-gpu-2_v106.pkl',\n",
       "  'clients/234-gpu-2/234-gpu-2_v107.pkl',\n",
       "  'clients/234-gpu-2/234-gpu-2_v108.pkl',\n",
       "  'clients/234-gpu-2/234-gpu-2_v109.pkl',\n",
       "  'clients/234-gpu-2/234-gpu-2_v110.pkl',\n",
       "  'clients/234-gpu-2/234-gpu-2_v111.pkl',\n",
       "  'clients/234-gpu-2/234-gpu-2_v42.pkl',\n",
       "  'clients/234-gpu-2/234-gpu-2_v43.pkl',\n",
       "  'clients/234-gpu-2/234-gpu-2_v44.pkl',\n",
       "  'clients/234-gpu-2/234-gpu-2_v45.pkl',\n",
       "  'clients/234-gpu-2/234-gpu-2_v46.pkl',\n",
       "  'clients/234-gpu-2/234-gpu-2_v47.pkl',\n",
       "  'clients/234-gpu-2/234-gpu-2_v48.pkl',\n",
       "  'clients/234-gpu-2/234-gpu-2_v49.pkl',\n",
       "  'clients/234-gpu-2/234-gpu-2_v50.pkl',\n",
       "  'clients/234-gpu-2/234-gpu-2_v54.pkl',\n",
       "  'clients/234-gpu-2/234-gpu-2_v55.pkl',\n",
       "  'clients/234-gpu-2/234-gpu-2_v57.pkl',\n",
       "  'clients/234-gpu-2/234-gpu-2_v58.pkl',\n",
       "  'clients/234-gpu-2/234-gpu-2_v59.pkl',\n",
       "  'clients/234-gpu-2/234-gpu-2_v60.pkl',\n",
       "  'clients/234-gpu-2/234-gpu-2_v61.pkl',\n",
       "  'clients/234-gpu-2/234-gpu-2_v62.pkl',\n",
       "  'clients/234-gpu-2/234-gpu-2_v63.pkl',\n",
       "  'clients/234-gpu-2/234-gpu-2_v64.pkl',\n",
       "  'clients/234-gpu-2/234-gpu-2_v65.pkl',\n",
       "  'clients/234-gpu-2/234-gpu-2_v66.pkl',\n",
       "  'clients/234-gpu-2/234-gpu-2_v67.pkl',\n",
       "  'clients/234-gpu-2/234-gpu-2_v68.pkl',\n",
       "  'clients/234-gpu-2/234-gpu-2_v69.pkl',\n",
       "  'clients/234-gpu-2/234-gpu-2_v70.pkl',\n",
       "  'clients/234-gpu-2/234-gpu-2_v71.pkl',\n",
       "  'clients/234-gpu-2/234-gpu-2_v72.pkl',\n",
       "  'clients/234-gpu-2/234-gpu-2_v73.pkl',\n",
       "  'clients/234-gpu-2/234-gpu-2_v74.pkl',\n",
       "  'clients/234-gpu-2/234-gpu-2_v75.pkl',\n",
       "  'clients/234-gpu-2/234-gpu-2_v76.pkl',\n",
       "  'clients/234-gpu-2/234-gpu-2_v77.pkl',\n",
       "  'clients/234-gpu-2/234-gpu-2_v78.pkl',\n",
       "  'clients/234-gpu-2/234-gpu-2_v79.pkl',\n",
       "  'clients/234-gpu-2/234-gpu-2_v80.pkl',\n",
       "  'clients/234-gpu-2/234-gpu-2_v81.pkl',\n",
       "  'clients/234-gpu-2/234-gpu-2_v82.pkl',\n",
       "  'clients/234-gpu-2/234-gpu-2_v83.pkl',\n",
       "  'clients/234-gpu-2/234-gpu-2_v84.pkl',\n",
       "  'clients/234-gpu-2/234-gpu-2_v85.pkl',\n",
       "  'clients/234-gpu-2/234-gpu-2_v86.pkl',\n",
       "  'clients/234-gpu-2/234-gpu-2_v87.pkl',\n",
       "  'clients/234-gpu-2/234-gpu-2_v88.pkl',\n",
       "  'clients/234-gpu-2/234-gpu-2_v89.pkl',\n",
       "  'clients/234-gpu-2/234-gpu-2_v90.pkl',\n",
       "  'clients/234-gpu-2/234-gpu-2_v91.pkl',\n",
       "  'clients/234-gpu-2/234-gpu-2_v92.pkl',\n",
       "  'clients/234-gpu-2/234-gpu-2_v93.pkl',\n",
       "  'clients/234-gpu-2/234-gpu-2_v94.pkl',\n",
       "  'clients/234-gpu-2/234-gpu-2_v95.pkl',\n",
       "  'clients/234-gpu-2/234-gpu-2_v96.pkl',\n",
       "  'clients/234-gpu-2/234-gpu-2_v97.pkl',\n",
       "  'clients/234-gpu-2/234-gpu-2_v98.pkl',\n",
       "  'clients/234-gpu-2/234-gpu-2_v99.pkl'])"
      ]
     },
     "execution_count": 6,
     "metadata": {},
     "output_type": "execute_result"
    }
   ],
   "source": [
    "files = server_minio.list_files(\"clients\", \"234-gpu-2\")\n",
    "len(files), files"
   ]
  },
  {
   "cell_type": "code",
   "execution_count": 9,
   "metadata": {},
   "outputs": [
    {
     "data": {
      "text/plain": [
       "(102, False)"
      ]
     },
     "execution_count": 9,
     "metadata": {},
     "output_type": "execute_result"
    }
   ],
   "source": [
    "current_version = 100\n",
    "\n",
    "file = files[2]\n",
    "\n",
    "version = int(file.split(\"_\")[-1].split(\".\")[0].split(\"v\")[-1])\n",
    "version, version < current_version\n",
    " "
   ]
  },
  {
   "cell_type": "code",
   "execution_count": 10,
   "metadata": {},
   "outputs": [
    {
     "data": {
      "text/plain": [
       "['clients/234-gpu-2/234-gpu-2_v42.pkl',\n",
       " 'clients/234-gpu-2/234-gpu-2_v43.pkl',\n",
       " 'clients/234-gpu-2/234-gpu-2_v44.pkl',\n",
       " 'clients/234-gpu-2/234-gpu-2_v45.pkl',\n",
       " 'clients/234-gpu-2/234-gpu-2_v46.pkl',\n",
       " 'clients/234-gpu-2/234-gpu-2_v47.pkl',\n",
       " 'clients/234-gpu-2/234-gpu-2_v48.pkl',\n",
       " 'clients/234-gpu-2/234-gpu-2_v49.pkl',\n",
       " 'clients/234-gpu-2/234-gpu-2_v50.pkl',\n",
       " 'clients/234-gpu-2/234-gpu-2_v54.pkl',\n",
       " 'clients/234-gpu-2/234-gpu-2_v55.pkl',\n",
       " 'clients/234-gpu-2/234-gpu-2_v57.pkl',\n",
       " 'clients/234-gpu-2/234-gpu-2_v58.pkl',\n",
       " 'clients/234-gpu-2/234-gpu-2_v59.pkl',\n",
       " 'clients/234-gpu-2/234-gpu-2_v60.pkl',\n",
       " 'clients/234-gpu-2/234-gpu-2_v61.pkl',\n",
       " 'clients/234-gpu-2/234-gpu-2_v62.pkl',\n",
       " 'clients/234-gpu-2/234-gpu-2_v63.pkl',\n",
       " 'clients/234-gpu-2/234-gpu-2_v64.pkl',\n",
       " 'clients/234-gpu-2/234-gpu-2_v65.pkl',\n",
       " 'clients/234-gpu-2/234-gpu-2_v66.pkl',\n",
       " 'clients/234-gpu-2/234-gpu-2_v67.pkl',\n",
       " 'clients/234-gpu-2/234-gpu-2_v68.pkl',\n",
       " 'clients/234-gpu-2/234-gpu-2_v69.pkl',\n",
       " 'clients/234-gpu-2/234-gpu-2_v70.pkl',\n",
       " 'clients/234-gpu-2/234-gpu-2_v71.pkl',\n",
       " 'clients/234-gpu-2/234-gpu-2_v72.pkl',\n",
       " 'clients/234-gpu-2/234-gpu-2_v73.pkl',\n",
       " 'clients/234-gpu-2/234-gpu-2_v74.pkl',\n",
       " 'clients/234-gpu-2/234-gpu-2_v75.pkl',\n",
       " 'clients/234-gpu-2/234-gpu-2_v76.pkl',\n",
       " 'clients/234-gpu-2/234-gpu-2_v77.pkl',\n",
       " 'clients/234-gpu-2/234-gpu-2_v78.pkl',\n",
       " 'clients/234-gpu-2/234-gpu-2_v79.pkl',\n",
       " 'clients/234-gpu-2/234-gpu-2_v80.pkl',\n",
       " 'clients/234-gpu-2/234-gpu-2_v81.pkl',\n",
       " 'clients/234-gpu-2/234-gpu-2_v82.pkl',\n",
       " 'clients/234-gpu-2/234-gpu-2_v83.pkl',\n",
       " 'clients/234-gpu-2/234-gpu-2_v84.pkl',\n",
       " 'clients/234-gpu-2/234-gpu-2_v85.pkl',\n",
       " 'clients/234-gpu-2/234-gpu-2_v86.pkl',\n",
       " 'clients/234-gpu-2/234-gpu-2_v87.pkl',\n",
       " 'clients/234-gpu-2/234-gpu-2_v88.pkl',\n",
       " 'clients/234-gpu-2/234-gpu-2_v89.pkl',\n",
       " 'clients/234-gpu-2/234-gpu-2_v90.pkl',\n",
       " 'clients/234-gpu-2/234-gpu-2_v91.pkl',\n",
       " 'clients/234-gpu-2/234-gpu-2_v92.pkl',\n",
       " 'clients/234-gpu-2/234-gpu-2_v93.pkl',\n",
       " 'clients/234-gpu-2/234-gpu-2_v94.pkl',\n",
       " 'clients/234-gpu-2/234-gpu-2_v95.pkl',\n",
       " 'clients/234-gpu-2/234-gpu-2_v96.pkl',\n",
       " 'clients/234-gpu-2/234-gpu-2_v97.pkl',\n",
       " 'clients/234-gpu-2/234-gpu-2_v98.pkl',\n",
       " 'clients/234-gpu-2/234-gpu-2_v99.pkl']"
      ]
     },
     "execution_count": 10,
     "metadata": {},
     "output_type": "execute_result"
    }
   ],
   "source": [
    "delete_list = [file for file in files if int(file.split(\"_\")[-1].split(\".\")[0].split(\"v\")[-1]) < current_version]\n",
    "delete_list"
   ]
  },
  {
   "cell_type": "code",
   "execution_count": 11,
   "metadata": {},
   "outputs": [
    {
     "data": {
      "text/plain": [
       "True"
      ]
     },
     "execution_count": 11,
     "metadata": {},
     "output_type": "execute_result"
    }
   ],
   "source": [
    "server_minio.delete_files(delete_list)"
   ]
  },
  {
   "cell_type": "code",
   "execution_count": null,
   "metadata": {},
   "outputs": [],
   "source": []
  }
 ],
 "metadata": {
  "kernelspec": {
   "display_name": "asynfed",
   "language": "python",
   "name": "python3"
  },
  "language_info": {
   "codemirror_mode": {
    "name": "ipython",
    "version": 3
   },
   "file_extension": ".py",
   "mimetype": "text/x-python",
   "name": "python",
   "nbconvert_exporter": "python",
   "pygments_lexer": "ipython3",
   "version": "3.8.16"
  },
  "orig_nbformat": 4
 },
 "nbformat": 4,
 "nbformat_minor": 2
}
