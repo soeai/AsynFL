{
 "cells": [
  {
   "cell_type": "code",
   "execution_count": 1,
   "metadata": {},
   "outputs": [],
   "source": [
    "import os, sys\n",
    "# asynfed/server/test_server_minio.ipynb\n",
    "root = os.path.dirname(os.path.dirname(os.getcwd()))\n",
    "# root = os.path.dirname(os.path.dirname(os.path.dirname(os.getcwd())))\n",
    "sys.path.append(root)"
   ]
  },
  {
   "cell_type": "code",
   "execution_count": 2,
   "metadata": {},
   "outputs": [
    {
     "data": {
      "text/plain": [
       "'/home/vtn_ubuntu/ttu/spring23/working_project/AsynFl'"
      ]
     },
     "execution_count": 2,
     "metadata": {},
     "output_type": "execute_result"
    }
   ],
   "source": [
    "root"
   ]
  },
  {
   "cell_type": "code",
   "execution_count": 3,
   "metadata": {},
   "outputs": [],
   "source": [
    "from server_minio_storage_connector import ServerStorageMinio"
   ]
  },
  {
   "cell_type": "code",
   "execution_count": 11,
   "metadata": {},
   "outputs": [],
   "source": [
    "\n",
    "minio_config = {\n",
    "    \"access_key\": \"admin_user\",\n",
    "    \"secret_key\": \"admin_pass\",\n",
    "    \"bucket_name\": \"new_buckekt\",\n",
    "    # \"endpoint_url\": \"http://localhost:9000\"\n",
    "    # \"endpoint_url\": \"http://128.214.254.126:9000\",\n",
    "    \"endpoint_url\": \"http://localhost:9000\",\n",
    "    \"region_name\": \"ap-southeast-2\"\n",
    "}\n",
    "\n"
   ]
  },
  {
   "cell_type": "code",
   "execution_count": 12,
   "metadata": {},
   "outputs": [
    {
     "name": "stderr",
     "output_type": "stream",
     "text": [
      "ERROR:root:An error occurred (InvalidBucketName) when calling the CreateBucket operation: The specified bucket is not valid.\n",
      "ERROR:root:An error occurred (InvalidClientTokenId) when calling the CreateUser operation: The security token included in the request is invalid.\n",
      "ERROR:root:An error occurred (InvalidClientTokenId) when calling the CreatePolicy operation: The security token included in the request is invalid.\n"
     ]
    },
    {
     "ename": "ClientError",
     "evalue": "An error occurred (InvalidClientTokenId) when calling the ListAccessKeys operation: The security token included in the request is invalid.",
     "output_type": "error",
     "traceback": [
      "\u001b[0;31m---------------------------------------------------------------------------\u001b[0m",
      "\u001b[0;31mClientError\u001b[0m                               Traceback (most recent call last)",
      "File \u001b[0;32m~/ttu/spring23/working_project/AsynFl/asynfed/server/server_minio_storage_connector.py:100\u001b[0m, in \u001b[0;36mServerStorageMinio.__init__\u001b[0;34m(self, minio_config)\u001b[0m\n\u001b[1;32m     99\u001b[0m \u001b[39mtry\u001b[39;00m:\n\u001b[0;32m--> 100\u001b[0m     \u001b[39mself\u001b[39m\u001b[39m.\u001b[39mclient_keys \u001b[39m=\u001b[39m \u001b[39mself\u001b[39;49m\u001b[39m.\u001b[39;49miam\u001b[39m.\u001b[39;49mcreate_access_key(UserName\u001b[39m=\u001b[39;49m\u001b[39mself\u001b[39;49m\u001b[39m.\u001b[39;49mclient_name)[\u001b[39m'\u001b[39m\u001b[39mAccessKey\u001b[39m\u001b[39m'\u001b[39m]\n\u001b[1;32m    101\u001b[0m \u001b[39mexcept\u001b[39;00m:\n",
      "File \u001b[0;32m~/miniconda3/envs/asynfed/lib/python3.9/site-packages/botocore/client.py:530\u001b[0m, in \u001b[0;36mClientCreator._create_api_method.<locals>._api_call\u001b[0;34m(self, *args, **kwargs)\u001b[0m\n\u001b[1;32m    529\u001b[0m \u001b[39m# The \"self\" in this scope is referring to the BaseClient.\u001b[39;00m\n\u001b[0;32m--> 530\u001b[0m \u001b[39mreturn\u001b[39;00m \u001b[39mself\u001b[39;49m\u001b[39m.\u001b[39;49m_make_api_call(operation_name, kwargs)\n",
      "File \u001b[0;32m~/miniconda3/envs/asynfed/lib/python3.9/site-packages/botocore/client.py:964\u001b[0m, in \u001b[0;36mBaseClient._make_api_call\u001b[0;34m(self, operation_name, api_params)\u001b[0m\n\u001b[1;32m    963\u001b[0m     error_class \u001b[39m=\u001b[39m \u001b[39mself\u001b[39m\u001b[39m.\u001b[39mexceptions\u001b[39m.\u001b[39mfrom_code(error_code)\n\u001b[0;32m--> 964\u001b[0m     \u001b[39mraise\u001b[39;00m error_class(parsed_response, operation_name)\n\u001b[1;32m    965\u001b[0m \u001b[39melse\u001b[39;00m:\n",
      "\u001b[0;31mClientError\u001b[0m: An error occurred (InvalidClientTokenId) when calling the CreateAccessKey operation: The security token included in the request is invalid.",
      "\nDuring handling of the above exception, another exception occurred:\n",
      "\u001b[0;31mClientError\u001b[0m                               Traceback (most recent call last)",
      "Cell \u001b[0;32mIn[12], line 1\u001b[0m\n\u001b[0;32m----> 1\u001b[0m server_minio \u001b[39m=\u001b[39m ServerStorageMinio(minio_config\u001b[39m=\u001b[39;49m minio_config)\n",
      "File \u001b[0;32m~/ttu/spring23/working_project/AsynFl/asynfed/server/server_minio_storage_connector.py:102\u001b[0m, in \u001b[0;36mServerStorageMinio.__init__\u001b[0;34m(self, minio_config)\u001b[0m\n\u001b[1;32m    100\u001b[0m     \u001b[39mself\u001b[39m\u001b[39m.\u001b[39mclient_keys \u001b[39m=\u001b[39m \u001b[39mself\u001b[39m\u001b[39m.\u001b[39miam\u001b[39m.\u001b[39mcreate_access_key(UserName\u001b[39m=\u001b[39m\u001b[39mself\u001b[39m\u001b[39m.\u001b[39mclient_name)[\u001b[39m'\u001b[39m\u001b[39mAccessKey\u001b[39m\u001b[39m'\u001b[39m]\n\u001b[1;32m    101\u001b[0m \u001b[39mexcept\u001b[39;00m:\n\u001b[0;32m--> 102\u001b[0m     \u001b[39mfor\u001b[39;00m key \u001b[39min\u001b[39;00m \u001b[39mself\u001b[39;49m\u001b[39m.\u001b[39;49miam\u001b[39m.\u001b[39;49mlist_access_keys(UserName\u001b[39m=\u001b[39;49m\u001b[39mself\u001b[39;49m\u001b[39m.\u001b[39;49mclient_name)[\u001b[39m'\u001b[39m\u001b[39mAccessKeyMetadata\u001b[39m\u001b[39m'\u001b[39m]:\n\u001b[1;32m    103\u001b[0m         \u001b[39mif\u001b[39;00m key[\u001b[39m'\u001b[39m\u001b[39mUserName\u001b[39m\u001b[39m'\u001b[39m] \u001b[39m==\u001b[39m \u001b[39mself\u001b[39m\u001b[39m.\u001b[39mclient_name:\n\u001b[1;32m    104\u001b[0m             \u001b[39mself\u001b[39m\u001b[39m.\u001b[39miam\u001b[39m.\u001b[39mdelete_access_key(\n\u001b[1;32m    105\u001b[0m                 UserName\u001b[39m=\u001b[39m\u001b[39mself\u001b[39m\u001b[39m.\u001b[39mclient_name,\n\u001b[1;32m    106\u001b[0m                 AccessKeyId\u001b[39m=\u001b[39mkey[\u001b[39m'\u001b[39m\u001b[39mAccessKeyId\u001b[39m\u001b[39m'\u001b[39m]\n\u001b[1;32m    107\u001b[0m             )\n",
      "File \u001b[0;32m~/miniconda3/envs/asynfed/lib/python3.9/site-packages/botocore/client.py:530\u001b[0m, in \u001b[0;36mClientCreator._create_api_method.<locals>._api_call\u001b[0;34m(self, *args, **kwargs)\u001b[0m\n\u001b[1;32m    526\u001b[0m     \u001b[39mraise\u001b[39;00m \u001b[39mTypeError\u001b[39;00m(\n\u001b[1;32m    527\u001b[0m         \u001b[39mf\u001b[39m\u001b[39m\"\u001b[39m\u001b[39m{\u001b[39;00mpy_operation_name\u001b[39m}\u001b[39;00m\u001b[39m() only accepts keyword arguments.\u001b[39m\u001b[39m\"\u001b[39m\n\u001b[1;32m    528\u001b[0m     )\n\u001b[1;32m    529\u001b[0m \u001b[39m# The \"self\" in this scope is referring to the BaseClient.\u001b[39;00m\n\u001b[0;32m--> 530\u001b[0m \u001b[39mreturn\u001b[39;00m \u001b[39mself\u001b[39;49m\u001b[39m.\u001b[39;49m_make_api_call(operation_name, kwargs)\n",
      "File \u001b[0;32m~/miniconda3/envs/asynfed/lib/python3.9/site-packages/botocore/client.py:964\u001b[0m, in \u001b[0;36mBaseClient._make_api_call\u001b[0;34m(self, operation_name, api_params)\u001b[0m\n\u001b[1;32m    962\u001b[0m     error_code \u001b[39m=\u001b[39m parsed_response\u001b[39m.\u001b[39mget(\u001b[39m\"\u001b[39m\u001b[39mError\u001b[39m\u001b[39m\"\u001b[39m, {})\u001b[39m.\u001b[39mget(\u001b[39m\"\u001b[39m\u001b[39mCode\u001b[39m\u001b[39m\"\u001b[39m)\n\u001b[1;32m    963\u001b[0m     error_class \u001b[39m=\u001b[39m \u001b[39mself\u001b[39m\u001b[39m.\u001b[39mexceptions\u001b[39m.\u001b[39mfrom_code(error_code)\n\u001b[0;32m--> 964\u001b[0m     \u001b[39mraise\u001b[39;00m error_class(parsed_response, operation_name)\n\u001b[1;32m    965\u001b[0m \u001b[39melse\u001b[39;00m:\n\u001b[1;32m    966\u001b[0m     \u001b[39mreturn\u001b[39;00m parsed_response\n",
      "\u001b[0;31mClientError\u001b[0m: An error occurred (InvalidClientTokenId) when calling the ListAccessKeys operation: The security token included in the request is invalid."
     ]
    }
   ],
   "source": [
    "server_minio = ServerStorageMinio(minio_config= minio_config)"
   ]
  },
  {
   "cell_type": "markdown",
   "metadata": {},
   "source": []
  },
  {
   "cell_type": "code",
   "execution_count": null,
   "metadata": {},
   "outputs": [],
   "source": []
  },
  {
   "cell_type": "code",
   "execution_count": null,
   "metadata": {},
   "outputs": [],
   "source": []
  }
 ],
 "metadata": {
  "kernelspec": {
   "display_name": "asynfed",
   "language": "python",
   "name": "python3"
  },
  "language_info": {
   "codemirror_mode": {
    "name": "ipython",
    "version": 3
   },
   "file_extension": ".py",
   "mimetype": "text/x-python",
   "name": "python",
   "nbconvert_exporter": "python",
   "pygments_lexer": "ipython3",
   "version": "3.9.16"
  },
  "orig_nbformat": 4
 },
 "nbformat": 4,
 "nbformat_minor": 2
}
