{
 "cells": [
  {
   "cell_type": "code",
   "execution_count": null,
   "metadata": {},
   "outputs": [],
   "source": []
  },
  {
   "cell_type": "code",
   "execution_count": null,
   "metadata": {},
   "outputs": [],
   "source": []
  },
  {
   "cell_type": "code",
   "execution_count": 1,
   "metadata": {},
   "outputs": [],
   "source": [
    "import re"
   ]
  },
  {
   "cell_type": "code",
   "execution_count": 2,
   "metadata": {},
   "outputs": [],
   "source": [
    "def extract_model_version(folder_path: str) -> int:\n",
    "    file_extension = \"pkl\"\n",
    "    # Search for any sequence of digits (\\d+) that comes directly before the file extension\n",
    "    match = re.search(rf'(\\d+){re.escape(file_extension)}', folder_path)\n",
    "    \n",
    "    # If a match was found, convert it to int and return it\n",
    "    if match:\n",
    "        return int(match.group(1))\n",
    "    \n",
    "    # If no match was found, return None\n",
    "    return None"
   ]
  },
  {
   "cell_type": "code",
   "execution_count": 3,
   "metadata": {},
   "outputs": [],
   "source": [
    "model_url = \"global-models/asyn2f-server-cifar10-20-chunks-gpu/1.pkl\""
   ]
  },
  {
   "cell_type": "code",
   "execution_count": 5,
   "metadata": {},
   "outputs": [
    {
     "name": "stdout",
     "output_type": "stream",
     "text": [
      "None\n"
     ]
    }
   ],
   "source": [
    "version = extract_model_version(model_url)\n",
    "\n",
    "print(version)"
   ]
  },
  {
   "cell_type": "code",
   "execution_count": null,
   "metadata": {},
   "outputs": [],
   "source": []
  },
  {
   "cell_type": "code",
   "execution_count": 6,
   "metadata": {},
   "outputs": [
    {
     "name": "stdout",
     "output_type": "stream",
     "text": [
      "None\n"
     ]
    }
   ],
   "source": [
    "def extract_model_version(folder_path: str) -> int:\n",
    "    file_extension = \"pkl\"\n",
    "    # Search for any sequence of digits (\\d+) that comes directly before the file extension\n",
    "    match = re.search(rf'(\\d+){re.escape(file_extension)}', folder_path)\n",
    "    \n",
    "    # If a match was found, convert it to int and return it\n",
    "    if match:\n",
    "        return int(match.group(1))\n",
    "    \n",
    "    # If no match was found, return None\n",
    "    return None\n",
    "\n",
    "model_url = \"global-models/asyn2f-server-cifar10-20-chunks-gpu/1.pkl\"\n",
    "version = extract_model_version(model_url)\n",
    "\n",
    "print(version)  # Should print: 1\n"
   ]
  },
  {
   "cell_type": "code",
   "execution_count": 19,
   "metadata": {},
   "outputs": [
    {
     "name": "stdout",
     "output_type": "stream",
     "text": [
      " fadsf_12343.pkl\n",
      "<re.Match object; span=(6, 12), match='12343.'>\n",
      "12343\n"
     ]
    }
   ],
   "source": [
    "import os\n",
    "import re\n",
    "\n",
    "def extract_model_version(folder_path: str) -> int:\n",
    "    # Use os.path to split the path into components\n",
    "    # just take the last component\n",
    "    _, filename = os.path.split(folder_path)\n",
    "\n",
    "    print(_, filename)\n",
    "    \n",
    "    # Search for any sequence of digits (\\d+) that comes directly before the file extension\n",
    "    match = re.search(r'(\\d+)\\.', filename)  # Look for digits followed by a dot\n",
    "    \n",
    "    print(match)\n",
    "\n",
    "    # If a match was found, convert it to int and return it\n",
    "    if match:\n",
    "        return int(match.group(1))\n",
    "    \n",
    "    # If no match was found, return None\n",
    "    return None\n",
    "\n",
    "# model_url = \"global-models/asyn2f-server-cifar10-20-chunks-gpu/1.pkl\"\n",
    "# model_url = \"asfd-dafjd/32432432/-3243324/1.pkl\"\n",
    "model_url = \"fadsf_12343.pkl\"\n",
    "version = extract_model_version(model_url)\n",
    "\n",
    "print(version)  # Should print: 1\n"
   ]
  },
  {
   "cell_type": "code",
   "execution_count": null,
   "metadata": {},
   "outputs": [],
   "source": []
  },
  {
   "cell_type": "code",
   "execution_count": null,
   "metadata": {},
   "outputs": [],
   "source": []
  },
  {
   "cell_type": "code",
   "execution_count": 17,
   "metadata": {},
   "outputs": [
    {
     "name": "stdout",
     "output_type": "stream",
     "text": [
      "1423\n"
     ]
    }
   ],
   "source": [
    "import os\n",
    "import re\n",
    "\n",
    "def extract_model_version(folder_path: str) -> int:\n",
    "    file_extension = \".pkl\"\n",
    "    \n",
    "    # Use os.path to split the path into components\n",
    "    _, filename = os.path.split(folder_path)\n",
    "    \n",
    "    # Search for any sequence of digits (\\d+) that comes directly before the file extension\n",
    "    match = re.search(r'(\\d+)\\.', filename)  # Look for digits followed by a dot\n",
    "    \n",
    "    # If a match was found, convert it to int and return it\n",
    "    if match:\n",
    "        return int(match.group(1))\n",
    "    \n",
    "    # If no match was found, return None\n",
    "    return None\n",
    "\n",
    "# model_url = \"global-models/asyn2f-server-cifar10-20-chunks-gpu/1.pkl\"\n",
    "model_url = \"global-models/asyn2f-server-cifar10-20-chunks-gpu/wwrwer_fasdf1423.pkl\"\n",
    "version = extract_model_version(model_url)\n",
    "\n",
    "print(version)  # Should print: 1\n"
   ]
  },
  {
   "cell_type": "code",
   "execution_count": null,
   "metadata": {},
   "outputs": [],
   "source": []
  },
  {
   "cell_type": "code",
   "execution_count": null,
   "metadata": {},
   "outputs": [],
   "source": []
  },
  {
   "cell_type": "code",
   "execution_count": 22,
   "metadata": {},
   "outputs": [
    {
     "name": "stdout",
     "output_type": "stream",
     "text": [
      "4231\n"
     ]
    }
   ],
   "source": [
    "import os\n",
    "import re\n",
    "\n",
    "def extract_model_version(folder_path: str, file_extension: str = \".pkl\") -> int:\n",
    "    \n",
    "    # Use os.path to split the path into components\n",
    "    _, filename = os.path.split(folder_path)\n",
    "    \n",
    "    # Search for any sequence of digits (\\d+) that comes directly before the file extension\n",
    "    match = re.search(rf'(\\d+){re.escape(file_extension)}', filename)\n",
    "    \n",
    "    # If a match was found, convert it to int and return it\n",
    "    if match:\n",
    "        return int(match.group(1))\n",
    "    \n",
    "    # If no match was found, return None\n",
    "    return None\n",
    "\n",
    "model_url = \"global-models/asyn2f-server-cifar10-20-chunks-gpu/f324kljgsfd_4231.pkl\"\n",
    "version = extract_model_version(model_url)\n",
    "\n",
    "print(version)  # Should print: 1\n"
   ]
  },
  {
   "cell_type": "code",
   "execution_count": null,
   "metadata": {},
   "outputs": [],
   "source": []
  },
  {
   "cell_type": "code",
   "execution_count": null,
   "metadata": {},
   "outputs": [],
   "source": []
  }
 ],
 "metadata": {
  "kernelspec": {
   "display_name": "tensorflow-cpu",
   "language": "python",
   "name": "python3"
  },
  "language_info": {
   "codemirror_mode": {
    "name": "ipython",
    "version": 3
   },
   "file_extension": ".py",
   "mimetype": "text/x-python",
   "name": "python",
   "nbconvert_exporter": "python",
   "pygments_lexer": "ipython3",
   "version": "3.9.16"
  },
  "orig_nbformat": 4
 },
 "nbformat": 4,
 "nbformat_minor": 2
}
