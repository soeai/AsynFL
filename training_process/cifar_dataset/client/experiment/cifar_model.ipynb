{
 "cells": [
  {
   "cell_type": "code",
   "execution_count": 1,
   "metadata": {},
   "outputs": [
    {
     "name": "stderr",
     "output_type": "stream",
     "text": [
      "2023-06-16 01:24:32.720213: I tensorflow/tsl/cuda/cudart_stub.cc:28] Could not find cuda drivers on your machine, GPU will not be used.\n",
      "2023-06-16 01:24:32.758459: I tensorflow/tsl/cuda/cudart_stub.cc:28] Could not find cuda drivers on your machine, GPU will not be used.\n",
      "2023-06-16 01:24:32.759551: I tensorflow/core/platform/cpu_feature_guard.cc:182] This TensorFlow binary is optimized to use available CPU instructions in performance-critical operations.\n",
      "To enable the following instructions: AVX2 FMA, in other operations, rebuild TensorFlow with the appropriate compiler flags.\n",
      "2023-06-16 01:24:33.656359: W tensorflow/compiler/tf2tensorrt/utils/py_utils.cc:38] TF-TRT Warning: Could not find TensorRT\n"
     ]
    }
   ],
   "source": [
    "import tensorflow as tf\n",
    "from tensorflow.keras.layers import Conv2D, MaxPooling2D, Flatten, Dense, Dropout\n",
    "from tensorflow.keras import Model\n"
   ]
  },
  {
   "cell_type": "code",
   "execution_count": null,
   "metadata": {},
   "outputs": [],
   "source": []
  },
  {
   "cell_type": "code",
   "execution_count": 5,
   "metadata": {},
   "outputs": [],
   "source": [
    "import os\n",
    "import sys\n",
    "root = os.path.dirname(os.path.dirname(os.path.dirname(os.getcwd())))\n",
    "sys.path.append(root)"
   ]
  },
  {
   "cell_type": "code",
   "execution_count": 8,
   "metadata": {},
   "outputs": [],
   "source": [
    "# import tensorflow as tf\n",
    "# from tensorflow.keras.layers import Model, Conv2D, MaxPooling2D, Flatten, Dense, Dropout\n",
    "from asynfed.client.frameworks.tensorflow.tensorflow_sequential_model import TensorflowSequentialModel\n",
    "\n",
    "class VGG16(TensorflowSequentialModel):\n",
    "# class VGG16(Model):\n",
    "    def __init__(self, input_features=(32, 32, 3), output_features=10):\n",
    "        super().__init__(input_features= input_features, output_features= output_features)\n",
    "\n",
    "    def create_model(self, input_features, output_features):\n",
    "        # First block\n",
    "        self.conv1_1 = Conv2D(64, (3, 3), activation='relu', padding='same', input_shape= input_features)\n",
    "        self.conv1_2 = Conv2D(64, (3, 3), activation='relu', padding='same')\n",
    "        self.pool1 = MaxPooling2D((2, 2))\n",
    "\n",
    "        # Second block\n",
    "        self.conv2_1 = Conv2D(128, (3, 3), activation='relu', padding='same')\n",
    "        self.conv2_2 = Conv2D(128, (3, 3), activation='relu', padding='same')\n",
    "        self.pool2 = MaxPooling2D((2, 2))\n",
    "\n",
    "        # Remaining blocks... \n",
    "\n",
    "        # Third block\n",
    "        self.conv3_1 = Conv2D(256, (3, 3), activation='relu', padding='same')\n",
    "        self.conv3_2 = Conv2D(256, (3, 3), activation='relu', padding='same')\n",
    "        self.conv3_3 = Conv2D(256, (3, 3), activation='relu', padding='same')\n",
    "        self.pool3 = MaxPooling2D((2, 2))\n",
    "\n",
    "        # Fourth block\n",
    "        self.conv4_1 = Conv2D(512, (3, 3), activation='relu', padding='same')\n",
    "        self.conv4_2 = Conv2D(512, (3, 3), activation='relu', padding='same')\n",
    "        self.conv4_3 = Conv2D(512, (3, 3), activation='relu', padding='same')\n",
    "        self.pool4 = MaxPooling2D((2, 2))\n",
    "\n",
    "        # Fifth block\n",
    "        self.conv5_1 = Conv2D(512, (3, 3), activation='relu', padding='same')\n",
    "        self.conv5_2 = Conv2D(512, (3, 3), activation='relu', padding='same')\n",
    "        self.conv5_3 = Conv2D(512, (3, 3), activation='relu', padding='same')\n",
    "        self.pool5 = MaxPooling2D((2, 2))\n",
    "\n",
    "        # Dense layers\n",
    "        self.flatten = Flatten()\n",
    "        self.fc1 = Dense(4096, activation='relu')\n",
    "        self.fc2 = Dense(4096, activation='relu')\n",
    "        self.fc3 = Dense(output_features, activation='softmax')\n",
    "        \n",
    "        # Dense layers\n",
    "        self.flatten = Flatten()\n",
    "        self.fc1 = Dense(512, activation='relu')\n",
    "        # randomly drop some nodes\n",
    "        self.dropout1 = Dropout(0.4)\n",
    "        self.fc2 = Dense(256, activation='relu')\n",
    "        # randomly drop some nodes\n",
    "        self.dropout2 = Dropout(0.4)\n",
    "        self.fc3 = Dense(output_features, activation='softmax')\n",
    "        \n",
    "\n",
    "    def call(self, x):\n",
    "        # first block\n",
    "        x = self.conv1_1(x)\n",
    "        x = self.conv1_2(x)\n",
    "        x = self.pool1(x)\n",
    "\n",
    "        # second block\n",
    "        x = self.conv2_1(x)\n",
    "        x = self.conv2_2(x)\n",
    "        x = self.pool2(x)\n",
    "\n",
    "        # third block\n",
    "        x = self.conv3_1(x)\n",
    "        x = self.conv3_2(x)\n",
    "        x = self.conv3_3(x)\n",
    "        x = self.pool3(x)\n",
    "\n",
    "        # fourth block\n",
    "        x = self.conv4_1(x)\n",
    "        x = self.conv4_2(x)\n",
    "        x = self.conv4_3(x)\n",
    "        x = self.pool5(x)\n",
    "\n",
    "        # fifth block\n",
    "        x = self.conv5_1(x)\n",
    "        x = self.conv5_2(x)\n",
    "        x = self.conv5_3(x)\n",
    "        x = self.pool5(x)\n",
    "\n",
    "        # dense block\n",
    "        x = self.flatten(x)\n",
    "        x = self.fc1(x)\n",
    "        x = self.dropout1(x)\n",
    "        x = self.fc2(x)\n",
    "        x = self.dropout2(x)\n",
    "        \n",
    "        return self.fc3(x)\n",
    "\n",
    "    def create_loss_object(self):\n",
    "        return tf.keras.losses.SparseCategoricalCrossentropy(from_logits=True)\n",
    "\n",
    "    def create_optimizer(self):\n",
    "        return tf.keras.optimizers.SGD(learning_rate=0.001, momentum=0.9)\n",
    "\n",
    "    def create_train_metric(self):\n",
    "        return tf.keras.metrics.SparseCategoricalAccuracy(name='train_accuracy'), tf.keras.metrics.Mean(name='train_loss')\n",
    "\n",
    "    def create_test_metric(self):\n",
    "        return tf.keras.metrics.SparseCategoricalAccuracy(name='test_accuracy'), tf.keras.metrics.Mean(name='test_loss')\n",
    "\n",
    "    def get_train_performance(self):\n",
    "        return float(self.train_performance.result())\n",
    "\n",
    "    def get_train_loss(self):\n",
    "        return float(self.train_loss.result())\n",
    "    \n",
    "    def get_test_performance(self):\n",
    "        return float(self.test_performance.result())\n",
    "\n",
    "    def get_test_loss(self):\n",
    "        return float(self.test_loss.result())\n"
   ]
  },
  {
   "cell_type": "code",
   "execution_count": null,
   "metadata": {},
   "outputs": [],
   "source": []
  },
  {
   "cell_type": "code",
   "execution_count": 9,
   "metadata": {},
   "outputs": [
    {
     "name": "stderr",
     "output_type": "stream",
     "text": [
      "2023-06-16 01:26:59.204604: I tensorflow/compiler/xla/stream_executor/cuda/cuda_gpu_executor.cc:982] could not open file to read NUMA node: /sys/bus/pci/devices/0000:01:00.0/numa_node\n",
      "Your kernel may have been built without NUMA support.\n",
      "2023-06-16 01:26:59.205619: W tensorflow/core/common_runtime/gpu/gpu_device.cc:1956] Cannot dlopen some GPU libraries. Please make sure the missing libraries mentioned above are installed properly if you would like to use GPU. Follow the guide at https://www.tensorflow.org/install/gpu for how to download and setup the required libraries for your platform.\n",
      "Skipping registering GPU devices...\n"
     ]
    }
   ],
   "source": [
    "model = VGG16()"
   ]
  },
  {
   "cell_type": "code",
   "execution_count": 10,
   "metadata": {},
   "outputs": [
    {
     "data": {
      "text/plain": [
       "<tf.Variable 'learning_rate:0' shape=() dtype=float32, numpy=0.001>"
      ]
     },
     "execution_count": 10,
     "metadata": {},
     "output_type": "execute_result"
    }
   ],
   "source": [
    "model.optimizer.learning_rate"
   ]
  },
  {
   "cell_type": "code",
   "execution_count": null,
   "metadata": {},
   "outputs": [],
   "source": []
  },
  {
   "cell_type": "code",
   "execution_count": null,
   "metadata": {},
   "outputs": [],
   "source": [
    "# model = CustomVGG16Model(10)\n",
    "# model.compile(optimizer=optimizers.SGD(learning_rate=0.001, momentum=0.9), \n",
    "#               loss='categorical_crossentropy', \n",
    "#               metrics=['accuracy'])\n",
    "\n",
    "# Learning rate scheduler function\n",
    "def lr_scheduler(epoch, lr):\n",
    "    if epoch % 20 == 0:\n",
    "        return lr * 0.5\n",
    "    return lr\n",
    "\n",
    "for epoch in range(100):\n",
    "    print(f'Start of epoch {epoch+1}')\n",
    "\n",
    "    # Set learning rate for this epoch\n",
    "    lr = lr_scheduler(epoch, model.optimizer.learning_rate)\n",
    "    model.optimizer.learning_rate = lr\n",
    "\n",
    "    # Iterate over the batches of the dataset.\n",
    "    for step, (x_batch_train, y_batch_train) in enumerate(train_dataset):\n",
    "\n",
    "        # Perform forward and backward pass\n",
    "        logs = model.train_step([x_batch_train, y_batch_train])\n",
    "\n",
    "        # Log metrics\n",
    "        if step % 200 == 0:\n",
    "            print(f'Training loss (for one batch) at step {step}: {logs[\"loss\"]}')\n",
    "            print(f'Seen so far: {(step + 1) * 64} samples')\n",
    "\n",
    "    # Save weights every 10 epochs\n",
    "    if (epoch + 1) % 10 == 0:\n",
    "        model.save_weights(f'./weights_{epoch+1}.h5')\n"
   ]
  },
  {
   "cell_type": "code",
   "execution_count": 9,
   "metadata": {},
   "outputs": [],
   "source": [
    "def lr_scheduler(epoch, lr):\n",
    "    if epoch % 20 == 0:\n",
    "        return lr * 0.5\n",
    "    return lr\n"
   ]
  },
  {
   "cell_type": "code",
   "execution_count": 8,
   "metadata": {},
   "outputs": [
    {
     "name": "stderr",
     "output_type": "stream",
     "text": [
      "2023-06-16 01:07:08.834235: I tensorflow/compiler/xla/stream_executor/cuda/cuda_gpu_executor.cc:982] could not open file to read NUMA node: /sys/bus/pci/devices/0000:01:00.0/numa_node\n",
      "Your kernel may have been built without NUMA support.\n",
      "2023-06-16 01:07:08.834721: W tensorflow/core/common_runtime/gpu/gpu_device.cc:1956] Cannot dlopen some GPU libraries. Please make sure the missing libraries mentioned above are installed properly if you would like to use GPU. Follow the guide at https://www.tensorflow.org/install/gpu for how to download and setup the required libraries for your platform.\n",
      "Skipping registering GPU devices...\n"
     ]
    }
   ],
   "source": [
    "optimizer = tf.keras.optimizers.SGD()"
   ]
  },
  {
   "cell_type": "code",
   "execution_count": 15,
   "metadata": {},
   "outputs": [
    {
     "data": {
      "text/plain": [
       "<tf.Variable 'learning_rate:0' shape=() dtype=float32, numpy=0.01>"
      ]
     },
     "execution_count": 15,
     "metadata": {},
     "output_type": "execute_result"
    }
   ],
   "source": [
    "optimizer.learning_rate"
   ]
  },
  {
   "cell_type": "code",
   "execution_count": null,
   "metadata": {},
   "outputs": [],
   "source": []
  }
 ],
 "metadata": {
  "kernelspec": {
   "display_name": "Python 3 (ipykernel)",
   "language": "python",
   "name": "python3"
  },
  "language_info": {
   "codemirror_mode": {
    "name": "ipython",
    "version": 3
   },
   "file_extension": ".py",
   "mimetype": "text/x-python",
   "name": "python",
   "nbconvert_exporter": "python",
   "pygments_lexer": "ipython3",
   "version": "3.9.16"
  }
 },
 "nbformat": 4,
 "nbformat_minor": 2
}
