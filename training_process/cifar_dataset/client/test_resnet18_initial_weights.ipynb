{
 "cells": [
  {
   "cell_type": "code",
   "execution_count": null,
   "metadata": {},
   "outputs": [],
   "source": []
  },
  {
   "cell_type": "code",
   "execution_count": null,
   "metadata": {},
   "outputs": [],
   "source": []
  },
  {
   "cell_type": "code",
   "execution_count": 1,
   "metadata": {},
   "outputs": [],
   "source": [
    "import os\n",
    "import sys\n",
    "\n",
    "# run locally without install asynfed package\n",
    "root = os.path.dirname(os.path.dirname(os.path.dirname(os.getcwd())))\n",
    "sys.path.append(root)\n"
   ]
  },
  {
   "cell_type": "code",
   "execution_count": 3,
   "metadata": {},
   "outputs": [],
   "source": [
    "# tensorflow \n",
    "from asynfed.client.frameworks.tensorflow.tensorflow_framework import TensorflowFramework\n",
    "from resnet18 import Resnet18\n",
    "from resnet18_5_chunks.data_preprocessing import *\n"
   ]
  },
  {
   "cell_type": "code",
   "execution_count": 4,
   "metadata": {},
   "outputs": [],
   "source": [
    "batch_size = 128\n",
    "epoch = 5"
   ]
  },
  {
   "cell_type": "code",
   "execution_count": 5,
   "metadata": {},
   "outputs": [
    {
     "name": "stderr",
     "output_type": "stream",
     "text": [
      "2023-07-01 06:29:19.574676: W tensorflow/core/common_runtime/gpu/gpu_device.cc:1956] Cannot dlopen some GPU libraries. Please make sure the missing libraries mentioned above are installed properly if you would like to use GPU. Follow the guide at https://www.tensorflow.org/install/gpu for how to download and setup the required libraries for your platform.\n",
      "Skipping registering GPU devices...\n"
     ]
    }
   ],
   "source": [
    "\n",
    "# load data\n",
    "default_training_dataset_path = \"../../data/cifar_data/5_chunks/chunk_2.pickle\"\n",
    "default_testing_dataset_path = \"../../data/cifar_data/test_set.pickle\"\n",
    "\n",
    "\n",
    "# train_ds, data_size = preprocess_dataset(training_dataset_path, training = True)\n",
    "# test_ds, _ = preprocess_dataset(testing_dataset_path, training = False)\n",
    "train_ds, data_size = preprocess_dataset(default_training_dataset_path, batch_size = 128, training = True)\n",
    "test_ds, _ = preprocess_dataset(default_testing_dataset_path, training = False)\n"
   ]
  },
  {
   "cell_type": "code",
   "execution_count": 6,
   "metadata": {},
   "outputs": [],
   "source": [
    "\n",
    "# define model\n",
    "model = Resnet18(input_features = (32, 32, 3), output_features = 10, lr=1e-1, decay_steps=int(epoch * data_size / batch_size))\n",
    "# define framework\n",
    "tensorflow_framework = TensorflowFramework(model = model, epoch= 200, data_size= data_size, train_ds= train_ds, test_ds= test_ds, regularization='l2', delta_time= 10000, qod= 0.45)\n",
    "\n"
   ]
  },
  {
   "cell_type": "code",
   "execution_count": 7,
   "metadata": {},
   "outputs": [
    {
     "name": "stderr",
     "output_type": "stream",
     "text": [
      "2023-07-01 06:29:25.584541: I tensorflow/core/common_runtime/executor.cc:1197] [/device:CPU:0] (DEBUG INFO) Executor start aborting (this does not indicate an error and you can ignore this message): INVALID_ARGUMENT: You must feed a value for placeholder tensor 'Placeholder/_1' with dtype float and shape [4166,10]\n",
      "\t [[{{node Placeholder/_1}}]]\n",
      "2023-07-01 06:29:25.584781: I tensorflow/core/common_runtime/executor.cc:1197] [/device:CPU:0] (DEBUG INFO) Executor start aborting (this does not indicate an error and you can ignore this message): INVALID_ARGUMENT: You must feed a value for placeholder tensor 'Placeholder/_0' with dtype double and shape [4166,32,32,3]\n",
      "\t [[{{node Placeholder/_0}}]]\n"
     ]
    }
   ],
   "source": [
    "# fit to be able to load model\n",
    "for images, labels in tensorflow_framework.train_ds:\n",
    "    train_acc, train_loss= tensorflow_framework.fit(images, labels)\n",
    "    break\n"
   ]
  },
  {
   "cell_type": "code",
   "execution_count": 9,
   "metadata": {},
   "outputs": [],
   "source": [
    "# version = 148\n",
    "# file_name = f\"./asynfed_5_chunks/weights/global_weights/cf9256b0-1c1f-46fc-8f33-34a179dfe21d_v{version}.pkl\"\n",
    "file_name = f\"../server/testweight_v1.pkl\"\n",
    "# training_process/cifar_dataset/server/testweight_v1.pkl\n",
    "\n",
    "with open(file_name, \"rb\") as f:\n",
    "    import pickle\n",
    "    weights = pickle.load(f)\n",
    "\n",
    "tensorflow_framework.set_weights(weights)"
   ]
  },
  {
   "cell_type": "code",
   "execution_count": 10,
   "metadata": {},
   "outputs": [
    {
     "name": "stderr",
     "output_type": "stream",
     "text": [
      "2023-07-01 06:31:02.569877: I tensorflow/core/common_runtime/executor.cc:1197] [/device:CPU:0] (DEBUG INFO) Executor start aborting (this does not indicate an error and you can ignore this message): INVALID_ARGUMENT: You must feed a value for placeholder tensor 'Placeholder/_1' with dtype float and shape [10000,10]\n",
      "\t [[{{node Placeholder/_1}}]]\n"
     ]
    },
    {
     "name": "stdout",
     "output_type": "stream",
     "text": [
      "Test Acc 25.55  Test Loss 2.0702455043792725\n"
     ]
    }
   ],
   "source": [
    "tensorflow_framework.model.test_loss.reset_states()\n",
    "tensorflow_framework.model.test_performance.reset_states()\n",
    "\n",
    "for test_images, test_labels in tensorflow_framework.test_ds:\n",
    "    test_acc, test_loss = tensorflow_framework.evaluate(test_images, test_labels)\n",
    "\n",
    "print(\"Test Acc {:.2f}  Test Loss {}\".format(test_acc  * 100, test_loss) )\n"
   ]
  },
  {
   "cell_type": "code",
   "execution_count": null,
   "metadata": {},
   "outputs": [],
   "source": []
  },
  {
   "cell_type": "code",
   "execution_count": 28,
   "metadata": {},
   "outputs": [],
   "source": [
    "version = 149\n",
    "file_name = f\"./asynfed_5_chunks/weights/global_weights/cf9256b0-1c1f-46fc-8f33-34a179dfe21d_v{version}.pkl\"\n",
    "with open(file_name, \"rb\") as f:\n",
    "    import pickle\n",
    "    weights = pickle.load(f)\n",
    "\n",
    "tensorflow_framework.set_weights(weights)"
   ]
  },
  {
   "cell_type": "code",
   "execution_count": 29,
   "metadata": {},
   "outputs": [
    {
     "name": "stdout",
     "output_type": "stream",
     "text": [
      "Test Acc 10.82  Test Loss 118.81172180175781\n"
     ]
    }
   ],
   "source": [
    "tensorflow_framework.model.test_loss.reset_states()\n",
    "tensorflow_framework.model.test_performance.reset_states()\n",
    "\n",
    "for test_images, test_labels in tensorflow_framework.test_ds:\n",
    "    test_acc, test_loss = tensorflow_framework.evaluate(test_images, test_labels)\n",
    "\n",
    "print(\"Test Acc {:.2f}  Test Loss {}\".format(test_acc  * 100, test_loss) )\n"
   ]
  },
  {
   "cell_type": "code",
   "execution_count": 30,
   "metadata": {},
   "outputs": [],
   "source": [
    "version = 150\n",
    "file_name = f\"./asynfed_5_chunks/weights/global_weights/cf9256b0-1c1f-46fc-8f33-34a179dfe21d_v{version}.pkl\"\n",
    "with open(file_name, \"rb\") as f:\n",
    "    import pickle\n",
    "    weights = pickle.load(f)\n",
    "\n",
    "tensorflow_framework.set_weights(weights)"
   ]
  },
  {
   "cell_type": "code",
   "execution_count": 31,
   "metadata": {},
   "outputs": [
    {
     "name": "stdout",
     "output_type": "stream",
     "text": [
      "Test Acc 10.45  Test Loss 61.79331588745117\n"
     ]
    }
   ],
   "source": [
    "tensorflow_framework.model.test_loss.reset_states()\n",
    "tensorflow_framework.model.test_performance.reset_states()\n",
    "\n",
    "for test_images, test_labels in tensorflow_framework.test_ds:\n",
    "    test_acc, test_loss = tensorflow_framework.evaluate(test_images, test_labels)\n",
    "\n",
    "print(\"Test Acc {:.2f}  Test Loss {}\".format(test_acc  * 100, test_loss) )\n"
   ]
  },
  {
   "cell_type": "code",
   "execution_count": null,
   "metadata": {},
   "outputs": [],
   "source": []
  },
  {
   "cell_type": "code",
   "execution_count": 32,
   "metadata": {},
   "outputs": [],
   "source": [
    "version = 151\n",
    "file_name = f\"./asynfed_5_chunks/weights/global_weights/cf9256b0-1c1f-46fc-8f33-34a179dfe21d_v{version}.pkl\"\n",
    "with open(file_name, \"rb\") as f:\n",
    "    import pickle\n",
    "    weights = pickle.load(f)\n",
    "\n",
    "tensorflow_framework.set_weights(weights)"
   ]
  },
  {
   "cell_type": "code",
   "execution_count": 33,
   "metadata": {},
   "outputs": [
    {
     "name": "stdout",
     "output_type": "stream",
     "text": [
      "Test Acc 30.09  Test Loss 15.118077278137207\n"
     ]
    }
   ],
   "source": [
    "tensorflow_framework.model.test_loss.reset_states()\n",
    "tensorflow_framework.model.test_performance.reset_states()\n",
    "\n",
    "for test_images, test_labels in tensorflow_framework.test_ds:\n",
    "    test_acc, test_loss = tensorflow_framework.evaluate(test_images, test_labels)\n",
    "\n",
    "print(\"Test Acc {:.2f}  Test Loss {}\".format(test_acc  * 100, test_loss) )\n"
   ]
  },
  {
   "cell_type": "code",
   "execution_count": null,
   "metadata": {},
   "outputs": [],
   "source": []
  },
  {
   "cell_type": "code",
   "execution_count": null,
   "metadata": {},
   "outputs": [],
   "source": []
  }
 ],
 "metadata": {
  "kernelspec": {
   "display_name": "tensorflow-cpu",
   "language": "python",
   "name": "python3"
  },
  "language_info": {
   "codemirror_mode": {
    "name": "ipython",
    "version": 3
   },
   "file_extension": ".py",
   "mimetype": "text/x-python",
   "name": "python",
   "nbconvert_exporter": "python",
   "pygments_lexer": "ipython3",
   "version": "3.9.16"
  },
  "orig_nbformat": 4
 },
 "nbformat": 4,
 "nbformat_minor": 2
}
