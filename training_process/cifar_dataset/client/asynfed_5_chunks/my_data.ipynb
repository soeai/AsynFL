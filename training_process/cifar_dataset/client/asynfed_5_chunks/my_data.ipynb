{
 "cells": [
  {
   "cell_type": "code",
   "execution_count": 1,
   "metadata": {},
   "outputs": [
    {
     "name": "stderr",
     "output_type": "stream",
     "text": [
      "2023-06-22 13:44:52.458835: I tensorflow/core/util/port.cc:110] oneDNN custom operations are on. You may see slightly different numerical results due to floating-point round-off errors from different computation orders. To turn them off, set the environment variable `TF_ENABLE_ONEDNN_OPTS=0`.\n",
      "2023-06-22 13:44:52.485919: I tensorflow/core/platform/cpu_feature_guard.cc:182] This TensorFlow binary is optimized to use available CPU instructions in performance-critical operations.\n",
      "To enable the following instructions: AVX2 AVX512F AVX512_VNNI FMA, in other operations, rebuild TensorFlow with the appropriate compiler flags.\n",
      "2023-06-22 13:44:52.926352: W tensorflow/compiler/tf2tensorrt/utils/py_utils.cc:38] TF-TRT Warning: Could not find TensorRT\n"
     ]
    }
   ],
   "source": [
    "\n",
    "import tensorflow as tf\n",
    "import numpy as np\n",
    "import pickle\n",
    "\n",
    "def load_to_numpy_array(dataset_path: str, height: int = 32, width: int = 32, channels: int = 3):\n",
    " # Load the MNIST digit dataset files into numpy arrays\n",
    "    with open(dataset_path, \"rb\") as f:\n",
    "        dataset = pickle.load(f)\n",
    "    \n",
    "    x = []\n",
    "    y = []\n",
    "\n",
    "    for sample in dataset:\n",
    "        label = sample[-1]\n",
    "        image = sample[: -1]\n",
    "        # x = x.reshape(width, height, channels) \n",
    "        x.append(image.reshape(width, height, channels))\n",
    "        y.append([label])\n",
    "\n",
    "    x = np.array(x)\n",
    "    y = np.array(y)\n",
    "    # y = y.reshape(-1)\n",
    "    return x, y\n",
    "\n",
    "\n",
    "def one_hot(train_labels, num_classes, dtype=np.float32):\n",
    "    \"\"\"Create a one-hot encoding of labels of size num_classes.\"\"\"\n",
    "    return np.array(train_labels == np.arange(num_classes), dtype)\n",
    "\n",
    "\n",
    "def normalize(images):\n",
    "    \"\"\"Normalize data with mean and std.\"\"\"\n",
    "    mean = np.array([0.49139968, 0.48215841, 0.4465309])\n",
    "    std = np.array([0.24703223, 0.24348513, 0.26158784])\n",
    "    return (images - mean) / std\n",
    "\n",
    "\n",
    "def augment(images, labels):\n",
    "    padding = 4\n",
    "    image_size = 32\n",
    "    target_size = image_size + padding * 2\n",
    "\n",
    "    images = tf.image.pad_to_bounding_box(images, padding, padding, target_size, target_size)\n",
    "    images = tf.image.random_crop(images, (image_size, image_size, 3))\n",
    "    images = tf.image.random_flip_left_right(images)\n",
    "    return images, labels\n",
    "\n",
    "\n",
    "\n",
    "def training_dataset_generator(images, labels, batch_size):\n",
    "    ds = tf.data.Dataset.from_tensor_slices((images, labels))\n",
    "    ds = ds.map(augment, num_parallel_calls=tf.data.experimental.AUTOTUNE)\n",
    "    ds = ds.shuffle(len(images)).batch(batch_size)\n",
    "    ds = ds.prefetch(buffer_size=tf.data.experimental.AUTOTUNE)\n",
    "    return ds\n",
    "\n",
    "\n",
    "def preprocess_dataset(dataset_path: str, height: int = 32, width: int = 32, \n",
    "                          channels: int = 3, num_classes: int =  10,\n",
    "                          batch_size: int = 128, training = True):\n",
    "   \n",
    "    x, y = load_to_numpy_array(dataset_path, height, width, channels)\n",
    "    data_size = len(x)\n",
    "\n",
    "    print(\"*\" * 20)\n",
    "    print(data_size)\n",
    "    print(\"*\" * 20)\n",
    "    # scale pixel value to be within 0 and 1\n",
    "    x = x / 255   \n",
    "    # one hot encoding for y\n",
    "    y = one_hot(train_labels= y, num_classes = num_classes)\n",
    "    # shape of x and y now: ((size, 32, 32, 3), (size,))\n",
    "    # already be ready for the training process\n",
    "    # perform normalize for x\n",
    "    x = normalize(x)\n",
    "    if training:\n",
    "        # create ready datasets for training process\n",
    "        # applying augmentation technique\n",
    "        ds = training_dataset_generator(x, y, batch_size)\n",
    "    else:\n",
    "        # create testing data set\n",
    "        ds = tf.data.Dataset.from_tensor_slices((x, y)).\\\n",
    "            batch(batch_size).prefetch(buffer_size=tf.data.experimental.AUTOTUNE)\n",
    "    return ds, data_size\n",
    "    # return x, y, data_size\n",
    "\n",
    "\n"
   ]
  },
  {
   "cell_type": "code",
   "execution_count": 2,
   "metadata": {},
   "outputs": [],
   "source": [
    "default_training_dataset_path = \"../../../data/cifar_data/5_chunks/chunk_2.pickle\"\n",
    "default_testing_dataset_path = \"../../../data/cifar_data/test_set.pickle\"\n"
   ]
  },
  {
   "cell_type": "code",
   "execution_count": 3,
   "metadata": {},
   "outputs": [],
   "source": [
    "# x, y, data_size = preprocess_dataset(default_training_dataset_path, batch_size = 128, training = True)"
   ]
  },
  {
   "cell_type": "code",
   "execution_count": null,
   "metadata": {},
   "outputs": [],
   "source": []
  },
  {
   "cell_type": "code",
   "execution_count": 4,
   "metadata": {},
   "outputs": [
    {
     "name": "stdout",
     "output_type": "stream",
     "text": [
      "********************\n",
      "4166\n",
      "********************\n"
     ]
    },
    {
     "name": "stderr",
     "output_type": "stream",
     "text": [
      "2023-06-22 13:44:54.471030: I tensorflow/compiler/xla/stream_executor/cuda/cuda_gpu_executor.cc:996] successful NUMA node read from SysFS had negative value (-1), but there must be at least one NUMA node, so returning NUMA node zero. See more at https://github.com/torvalds/linux/blob/v6.0/Documentation/ABI/testing/sysfs-bus-pci#L344-L355\n",
      "2023-06-22 13:44:54.485213: I tensorflow/compiler/xla/stream_executor/cuda/cuda_gpu_executor.cc:996] successful NUMA node read from SysFS had negative value (-1), but there must be at least one NUMA node, so returning NUMA node zero. See more at https://github.com/torvalds/linux/blob/v6.0/Documentation/ABI/testing/sysfs-bus-pci#L344-L355\n",
      "2023-06-22 13:44:54.485886: I tensorflow/compiler/xla/stream_executor/cuda/cuda_gpu_executor.cc:996] successful NUMA node read from SysFS had negative value (-1), but there must be at least one NUMA node, so returning NUMA node zero. See more at https://github.com/torvalds/linux/blob/v6.0/Documentation/ABI/testing/sysfs-bus-pci#L344-L355\n",
      "2023-06-22 13:44:54.487001: I tensorflow/compiler/xla/stream_executor/cuda/cuda_gpu_executor.cc:996] successful NUMA node read from SysFS had negative value (-1), but there must be at least one NUMA node, so returning NUMA node zero. See more at https://github.com/torvalds/linux/blob/v6.0/Documentation/ABI/testing/sysfs-bus-pci#L344-L355\n",
      "2023-06-22 13:44:54.487641: I tensorflow/compiler/xla/stream_executor/cuda/cuda_gpu_executor.cc:996] successful NUMA node read from SysFS had negative value (-1), but there must be at least one NUMA node, so returning NUMA node zero. See more at https://github.com/torvalds/linux/blob/v6.0/Documentation/ABI/testing/sysfs-bus-pci#L344-L355\n",
      "2023-06-22 13:44:54.488149: I tensorflow/compiler/xla/stream_executor/cuda/cuda_gpu_executor.cc:996] successful NUMA node read from SysFS had negative value (-1), but there must be at least one NUMA node, so returning NUMA node zero. See more at https://github.com/torvalds/linux/blob/v6.0/Documentation/ABI/testing/sysfs-bus-pci#L344-L355\n",
      "2023-06-22 13:44:54.840281: I tensorflow/compiler/xla/stream_executor/cuda/cuda_gpu_executor.cc:996] successful NUMA node read from SysFS had negative value (-1), but there must be at least one NUMA node, so returning NUMA node zero. See more at https://github.com/torvalds/linux/blob/v6.0/Documentation/ABI/testing/sysfs-bus-pci#L344-L355\n",
      "2023-06-22 13:44:54.840708: I tensorflow/compiler/xla/stream_executor/cuda/cuda_gpu_executor.cc:996] successful NUMA node read from SysFS had negative value (-1), but there must be at least one NUMA node, so returning NUMA node zero. See more at https://github.com/torvalds/linux/blob/v6.0/Documentation/ABI/testing/sysfs-bus-pci#L344-L355\n",
      "2023-06-22 13:44:54.841087: I tensorflow/compiler/xla/stream_executor/cuda/cuda_gpu_executor.cc:996] successful NUMA node read from SysFS had negative value (-1), but there must be at least one NUMA node, so returning NUMA node zero. See more at https://github.com/torvalds/linux/blob/v6.0/Documentation/ABI/testing/sysfs-bus-pci#L344-L355\n",
      "2023-06-22 13:44:54.841455: I tensorflow/core/common_runtime/gpu/gpu_device.cc:1635] Created device /job:localhost/replica:0/task:0/device:GPU:0 with 10344 MB memory:  -> device: 0, name: NVIDIA GeForce GTX 1080 Ti, pci bus id: 0000:01:00.0, compute capability: 6.1\n"
     ]
    }
   ],
   "source": [
    "train_ds, data_size = preprocess_dataset(default_training_dataset_path, batch_size = 128, training = True)\n"
   ]
  },
  {
   "cell_type": "code",
   "execution_count": null,
   "metadata": {},
   "outputs": [],
   "source": []
  },
  {
   "cell_type": "code",
   "execution_count": null,
   "metadata": {},
   "outputs": [],
   "source": []
  },
  {
   "cell_type": "code",
   "execution_count": 5,
   "metadata": {},
   "outputs": [
    {
     "name": "stdout",
     "output_type": "stream",
     "text": [
      "********************\n",
      "10000\n",
      "********************\n"
     ]
    }
   ],
   "source": [
    "test_ds, _ = preprocess_dataset(default_testing_dataset_path, training = False)\n"
   ]
  },
  {
   "cell_type": "code",
   "execution_count": null,
   "metadata": {},
   "outputs": [],
   "source": []
  },
  {
   "cell_type": "code",
   "execution_count": null,
   "metadata": {},
   "outputs": [],
   "source": []
  },
  {
   "cell_type": "code",
   "execution_count": null,
   "metadata": {},
   "outputs": [],
   "source": []
  },
  {
   "cell_type": "code",
   "execution_count": null,
   "metadata": {},
   "outputs": [],
   "source": []
  }
 ],
 "metadata": {
  "kernelspec": {
   "display_name": "asynfed",
   "language": "python",
   "name": "python3"
  },
  "language_info": {
   "codemirror_mode": {
    "name": "ipython",
    "version": 3
   },
   "file_extension": ".py",
   "mimetype": "text/x-python",
   "name": "python",
   "nbconvert_exporter": "python",
   "pygments_lexer": "ipython3",
   "version": "3.9.16"
  },
  "orig_nbformat": 4
 },
 "nbformat": 4,
 "nbformat_minor": 2
}
