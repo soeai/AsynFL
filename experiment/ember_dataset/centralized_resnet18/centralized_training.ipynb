{
 "cells": [
  {
   "cell_type": "code",
   "execution_count": 1,
   "metadata": {},
   "outputs": [
    {
     "name": "stderr",
     "output_type": "stream",
     "text": [
      "2023-08-04 10:05:50.506006: I tensorflow/core/util/port.cc:110] oneDNN custom operations are on. You may see slightly different numerical results due to floating-point round-off errors from different computation orders. To turn them off, set the environment variable `TF_ENABLE_ONEDNN_OPTS=0`.\n",
      "2023-08-04 10:05:50.540616: I tensorflow/core/platform/cpu_feature_guard.cc:182] This TensorFlow binary is optimized to use available CPU instructions in performance-critical operations.\n",
      "To enable the following instructions: AVX2 AVX512F AVX512_VNNI FMA, in other operations, rebuild TensorFlow with the appropriate compiler flags.\n",
      "2023-08-04 10:05:51.048014: W tensorflow/compiler/tf2tensorrt/utils/py_utils.cc:38] TF-TRT Warning: Could not find TensorRT\n"
     ]
    }
   ],
   "source": [
    "import os\n",
    "import sys\n",
    "import json\n",
    "\n",
    "# run locally without install asynfed package\n",
    "root = os.path.dirname(os.path.dirname(os.path.dirname(os.getcwd())))\n",
    "# root = os.path.dirname(os.path.dirname(os.path.dirname(os.path.dirname(os.getcwd()))))\n",
    "sys.path.append(root)\n",
    "\n",
    "\n",
    "# tensorflow \n",
    "from asynfed.client.frameworks.tensorflow.tensorflow_framework import TensorflowFramework\n",
    "from experiment.ember_dataset.ember_model import EmberModel\n",
    "from data_preprocessing import *"
   ]
  },
  {
   "cell_type": "code",
   "execution_count": 2,
   "metadata": {},
   "outputs": [],
   "source": [
    "import tensorflow as tf"
   ]
  },
  {
   "cell_type": "code",
   "execution_count": 3,
   "metadata": {},
   "outputs": [],
   "source": [
    "\n",
    "with open('conf.json', 'r') as json_file:\n",
    "    config = json.load(json_file)\n"
   ]
  },
  {
   "cell_type": "code",
   "execution_count": 4,
   "metadata": {},
   "outputs": [],
   "source": [
    "\n",
    "epoch = 200\n",
    "batch_size = 128\n",
    "\n",
    "learning_rate_config = config.get('training_params').get('learning_rate_config', {}) \n",
    "if learning_rate_config == {}:\n",
    "    learning_rate_config['fix_lr'] = False\n",
    "    learning_rate_config['lr'] = 0.1\n",
    "    learning_rate_config['decay_steps'] = 600000 * epoch / batch_size"
   ]
  },
  {
   "cell_type": "code",
   "execution_count": 5,
   "metadata": {},
   "outputs": [
    {
     "name": "stdout",
     "output_type": "stream",
     "text": [
      "Config in the resnet model\n",
      "{'fix_lr': False, 'lr': 0.1, 'decay_steps': 937500.0}\n",
      "Model: \"model\"\n",
      "__________________________________________________________________________________________________\n",
      " Layer (type)                   Output Shape         Param #     Connected to                     \n",
      "==================================================================================================\n",
      " input_1 (InputLayer)           [(None, 2381)]       0           []                               \n",
      "                                                                                                  \n",
      " embedding (Embedding)          (None, 2381, 8)      2056        ['input_1[0][0]']                \n",
      "                                                                                                  \n",
      " conv1d (Conv1D)                (None, 4, 128)       512128      ['embedding[0][0]']              \n",
      "                                                                                                  \n",
      " conv1d_1 (Conv1D)              (None, 4, 128)       512128      ['embedding[0][0]']              \n",
      "                                                                                                  \n",
      " multiply (Multiply)            (None, 4, 128)       0           ['conv1d[0][0]',                 \n",
      "                                                                  'conv1d_1[0][0]']               \n",
      "                                                                                                  \n",
      " global_max_pooling1d (GlobalMa  (None, 128)         0           ['multiply[0][0]']               \n",
      " xPooling1D)                                                                                      \n",
      "                                                                                                  \n",
      " dense (Dense)                  (None, 128)          16512       ['global_max_pooling1d[0][0]']   \n",
      "                                                                                                  \n",
      " dense_1 (Dense)                (None, 1)            129         ['dense[0][0]']                  \n",
      "                                                                                                  \n",
      "==================================================================================================\n",
      "Total params: 1,042,953\n",
      "Trainable params: 1,042,953\n",
      "Non-trainable params: 0\n",
      "__________________________________________________________________________________________________\n",
      "Create optimizer with decay learning rate: 0.10000000149011612\n",
      "Learning rate right now is: 0.10000000149011612\n"
     ]
    },
    {
     "name": "stderr",
     "output_type": "stream",
     "text": [
      "2023-08-04 10:05:52.768285: I tensorflow/core/common_runtime/gpu/gpu_device.cc:1635] Created device /job:localhost/replica:0/task:0/device:GPU:0 with 22301 MB memory:  -> device: 0, name: NVIDIA RTX A5000, pci bus id: 0000:19:00.0, compute capability: 8.6\n",
      "2023-08-04 10:05:52.768804: I tensorflow/core/common_runtime/gpu/gpu_device.cc:1635] Created device /job:localhost/replica:0/task:0/device:GPU:1 with 22301 MB memory:  -> device: 1, name: NVIDIA RTX A5000, pci bus id: 0000:8d:00.0, compute capability: 8.6\n"
     ]
    }
   ],
   "source": [
    "\n",
    "# Define model\n",
    "model = EmberModel(input_features= None, output_features= None, lr_config= learning_rate_config)\n"
   ]
  },
  {
   "cell_type": "code",
   "execution_count": null,
   "metadata": {},
   "outputs": [],
   "source": []
  },
  {
   "cell_type": "code",
   "execution_count": 6,
   "metadata": {},
   "outputs": [
    {
     "name": "stdout",
     "output_type": "stream",
     "text": [
      "X shape: (600000, 2381) -- y shape: (600000,)\n",
      "X val shape: (200000, 2381) -- y val shape: (200000,)\n"
     ]
    }
   ],
   "source": [
    "X = []\n",
    "y = []\n",
    "\n",
    "data_folder = \"/home/student02/thaile/working_with_ember_dataset/data\"\n",
    "for i in range(10):\n",
    "    X_chunk, y_chunk = load_data(f'{data_folder}/chunk_{i}.pickle')\n",
    "    X.append(X_chunk)\n",
    "    y.append(y_chunk)\n",
    "\n",
    "X_val, y_val = load_data(f'{data_folder}/test_set.pickle')\n",
    "\n",
    "X = np.concatenate(X, axis=0)\n",
    "y = np.concatenate(y, axis=0)\n",
    "print('X shape:', X.shape, '-- y shape:', y.shape)\n",
    "print('X val shape:', X_val.shape, '-- y val shape:', y_val.shape)\n",
    "\n"
   ]
  },
  {
   "cell_type": "code",
   "execution_count": 7,
   "metadata": {},
   "outputs": [],
   "source": [
    "train_ds = create_dataset(X, y)\n",
    "test_ds = create_dataset(X_val, y_val)"
   ]
  },
  {
   "cell_type": "code",
   "execution_count": 8,
   "metadata": {},
   "outputs": [
    {
     "data": {
      "text/plain": [
       "600000"
      ]
     },
     "execution_count": 8,
     "metadata": {},
     "output_type": "execute_result"
    }
   ],
   "source": [
    "data_size = len(X)\n",
    "data_size"
   ]
  },
  {
   "cell_type": "code",
   "execution_count": 9,
   "metadata": {},
   "outputs": [],
   "source": [
    "# Define framework\n",
    "tensorflow_framework = TensorflowFramework(model=model, \n",
    "                                           data_size= data_size, \n",
    "                                           train_ds= train_ds, \n",
    "                                           test_ds= test_ds, \n",
    "                                           config=config)\n"
   ]
  },
  {
   "cell_type": "code",
   "execution_count": 10,
   "metadata": {},
   "outputs": [
    {
     "data": {
      "text/plain": [
       "200"
      ]
     },
     "execution_count": 10,
     "metadata": {},
     "output_type": "execute_result"
    }
   ],
   "source": [
    "epoch"
   ]
  },
  {
   "cell_type": "code",
   "execution_count": 11,
   "metadata": {},
   "outputs": [
    {
     "name": "stdout",
     "output_type": "stream",
     "text": [
      "Enter epoch epoch, learning rate = 0.10000000149011612\n"
     ]
    },
    {
     "name": "stderr",
     "output_type": "stream",
     "text": [
      "2023-08-04 10:06:05.116768: I tensorflow/core/common_runtime/executor.cc:1197] [/device:CPU:0] (DEBUG INFO) Executor start aborting (this does not indicate an error and you can ignore this message): INVALID_ARGUMENT: You must feed a value for placeholder tensor 'Placeholder/_1' with dtype float and shape [600000]\n",
      "\t [[{{node Placeholder/_1}}]]\n",
      "2023-08-04 10:06:05.117018: I tensorflow/core/common_runtime/executor.cc:1197] [/device:CPU:0] (DEBUG INFO) Executor start aborting (this does not indicate an error and you can ignore this message): INVALID_ARGUMENT: You must feed a value for placeholder tensor 'Placeholder/_1' with dtype float and shape [600000]\n",
      "\t [[{{node Placeholder/_1}}]]\n",
      "2023-08-04 10:06:09.105559: I tensorflow/compiler/xla/stream_executor/cuda/cuda_dnn.cc:424] Loaded cuDNN version 8600\n",
      "2023-08-04 10:06:09.721679: I tensorflow/compiler/xla/stream_executor/cuda/cuda_blas.cc:637] TensorFloat-32 will be used for the matrix multiplication. This will only be logged once.\n",
      "2023-08-04 10:06:10.120818: I tensorflow/compiler/xla/service/service.cc:169] XLA service 0x7f0a2c8a0a40 initialized for platform CUDA (this does not guarantee that XLA will be used). Devices:\n",
      "2023-08-04 10:06:10.120838: I tensorflow/compiler/xla/service/service.cc:177]   StreamExecutor device (0): NVIDIA RTX A5000, Compute Capability 8.6\n",
      "2023-08-04 10:06:10.120843: I tensorflow/compiler/xla/service/service.cc:177]   StreamExecutor device (1): NVIDIA RTX A5000, Compute Capability 8.6\n",
      "2023-08-04 10:06:10.195876: I ./tensorflow/compiler/jit/device_compiler.h:180] Compiled cluster using XLA!  This line is logged at most once for the lifetime of the process.\n",
      "2023-08-04 10:06:48.366500: I tensorflow/core/common_runtime/executor.cc:1197] [/device:CPU:0] (DEBUG INFO) Executor start aborting (this does not indicate an error and you can ignore this message): INVALID_ARGUMENT: You must feed a value for placeholder tensor 'Placeholder/_1' with dtype float and shape [200000]\n",
      "\t [[{{node Placeholder/_1}}]]\n",
      "2023-08-04 10:06:48.366712: I tensorflow/core/common_runtime/executor.cc:1197] [/device:CPU:0] (DEBUG INFO) Executor start aborting (this does not indicate an error and you can ignore this message): INVALID_ARGUMENT: You must feed a value for placeholder tensor 'Placeholder/_1' with dtype float and shape [200000]\n",
      "\t [[{{node Placeholder/_1}}]]\n"
     ]
    },
    {
     "name": "stdout",
     "output_type": "stream",
     "text": [
      "********************\n",
      "Epoch 1 - Train Acc: 50.01 -- Train Loss 311.4507141113281 Test Acc 50.00  Test Loss 310.41607666015625\n",
      "********************\n",
      "Enter epoch epoch, learning rate = 0.09999383985996246\n",
      "********************\n",
      "Epoch 2 - Train Acc: 50.00 -- Train Loss 317.0620422363281 Test Acc 50.00  Test Loss 310.416259765625\n",
      "********************\n",
      "Enter epoch epoch, learning rate = 0.09997532516717911\n",
      "********************\n",
      "Epoch 3 - Train Acc: 50.08 -- Train Loss nan Test Acc 50.00  Test Loss nan\n",
      "********************\n",
      "Enter epoch epoch, learning rate = 0.09994449466466904\n",
      "********************\n",
      "Epoch 4 - Train Acc: 50.00 -- Train Loss nan Test Acc 50.00  Test Loss nan\n",
      "********************\n",
      "Enter epoch epoch, learning rate = 0.09990132600069046\n",
      "********************\n",
      "Epoch 5 - Train Acc: 50.00 -- Train Loss nan Test Acc 50.00  Test Loss nan\n",
      "********************\n",
      "Enter epoch epoch, learning rate = 0.09984584897756577\n",
      "********************\n",
      "Epoch 6 - Train Acc: 50.00 -- Train Loss nan Test Acc 50.00  Test Loss nan\n",
      "********************\n",
      "Enter epoch epoch, learning rate = 0.09977807104587555\n"
     ]
    },
    {
     "ename": "KeyboardInterrupt",
     "evalue": "",
     "output_type": "error",
     "traceback": [
      "\u001b[0;31m---------------------------------------------------------------------------\u001b[0m",
      "\u001b[0;31mKeyboardInterrupt\u001b[0m                         Traceback (most recent call last)",
      "Cell \u001b[0;32mIn[11], line 9\u001b[0m\n\u001b[1;32m      6\u001b[0m \u001b[39mprint\u001b[39m(\u001b[39mf\u001b[39m\u001b[39m\"\u001b[39m\u001b[39mEnter epoch epoch, learning rate = \u001b[39m\u001b[39m{\u001b[39;00mtensorflow_framework\u001b[39m.\u001b[39mget_learning_rate()\u001b[39m}\u001b[39;00m\u001b[39m\"\u001b[39m)\n\u001b[1;32m      8\u001b[0m \u001b[39mfor\u001b[39;00m images, labels \u001b[39min\u001b[39;00m tensorflow_framework\u001b[39m.\u001b[39mtrain_ds:\n\u001b[0;32m----> 9\u001b[0m     train_acc, train_loss\u001b[39m=\u001b[39m tensorflow_framework\u001b[39m.\u001b[39;49mfit(images, labels)\n\u001b[1;32m     11\u001b[0m \u001b[39mfor\u001b[39;00m test_images, test_labels \u001b[39min\u001b[39;00m tensorflow_framework\u001b[39m.\u001b[39mtest_ds:\n\u001b[1;32m     12\u001b[0m     test_acc, test_loss \u001b[39m=\u001b[39m tensorflow_framework\u001b[39m.\u001b[39mevaluate(test_images, test_labels)\n",
      "File \u001b[0;32m~/nguyen_vuong/AsynFL/asynfed/client/frameworks/tensorflow/tensorflow_framework.py:65\u001b[0m, in \u001b[0;36mTensorflowFramework.fit\u001b[0;34m(self, x, y)\u001b[0m\n\u001b[1;32m     64\u001b[0m \u001b[39mdef\u001b[39;00m \u001b[39mfit\u001b[39m(\u001b[39mself\u001b[39m, x, y):\n\u001b[0;32m---> 65\u001b[0m     \u001b[39mself\u001b[39;49m\u001b[39m.\u001b[39;49mtrain_step(x, y)\n\u001b[1;32m     66\u001b[0m     \u001b[39mreturn\u001b[39;00m \u001b[39mself\u001b[39m\u001b[39m.\u001b[39mmodel\u001b[39m.\u001b[39mget_train_performance(), \u001b[39mself\u001b[39m\u001b[39m.\u001b[39mmodel\u001b[39m.\u001b[39mget_train_loss()\n",
      "File \u001b[0;32m~/anaconda3/envs/asynfed/lib/python3.8/site-packages/tensorflow/python/eager/polymorphic_function/polymorphic_function.py:1293\u001b[0m, in \u001b[0;36mFunction.__get__\u001b[0;34m(***failed resolving arguments***)\u001b[0m\n\u001b[1;32m   1267\u001b[0m \u001b[39mdel\u001b[39;00m owner\n\u001b[1;32m   1268\u001b[0m \u001b[39m# `instance` here is the instance that this `Function` was accessed through\u001b[39;00m\n\u001b[1;32m   1269\u001b[0m \u001b[39m# e.g., for\u001b[39;00m\n\u001b[1;32m   1270\u001b[0m \u001b[39m#\u001b[39;00m\n\u001b[0;32m   (...)\u001b[0m\n\u001b[1;32m   1291\u001b[0m \u001b[39m# TODO(b/199278478): Fix those classes, then remove the check for\u001b[39;00m\n\u001b[1;32m   1292\u001b[0m \u001b[39m# `instance._type_spec is not None`.\u001b[39;00m\n\u001b[0;32m-> 1293\u001b[0m \u001b[39mif\u001b[39;00m (\u001b[39misinstance\u001b[39;49m(instance, composite_tensor\u001b[39m.\u001b[39;49mCompositeTensor) \u001b[39mand\u001b[39;00m\n\u001b[1;32m   1294\u001b[0m     instance\u001b[39m.\u001b[39m_type_spec \u001b[39mis\u001b[39;00m \u001b[39mnot\u001b[39;00m \u001b[39mNone\u001b[39;00m):  \u001b[39m# pylint: disable=protected-access\u001b[39;00m\n\u001b[1;32m   1295\u001b[0m   \u001b[39mreturn\u001b[39;00m types_lib\u001b[39m.\u001b[39mMethodType(\u001b[39mself\u001b[39m, instance)\n\u001b[1;32m   1296\u001b[0m \u001b[39mif\u001b[39;00m instance \u001b[39mnot\u001b[39;00m \u001b[39min\u001b[39;00m \u001b[39mself\u001b[39m\u001b[39m.\u001b[39m_descriptor_cache:\n",
      "\u001b[0;31mKeyboardInterrupt\u001b[0m: "
     ]
    }
   ],
   "source": [
    "for epoch in range(epoch):\n",
    "    print(f\"Enter epoch {epoch + 1}, learning rate = {tensorflow_framework.get_learning_rate()}\")\n",
    "    tensorflow_framework.model.train_loss.reset_states()\n",
    "    tensorflow_framework.model.train_performance.reset_states()\n",
    "    tensorflow_framework.model.test_loss.reset_states()\n",
    "    tensorflow_framework.model.test_performance.reset_states()\n",
    "\n",
    "    for images, labels in tensorflow_framework.train_ds:\n",
    "        train_acc, train_loss= tensorflow_framework.fit(images, labels)\n",
    "\n",
    "    for test_images, test_labels in tensorflow_framework.test_ds:\n",
    "        test_acc, test_loss = tensorflow_framework.evaluate(test_images, test_labels)\n",
    "\n",
    "    print(\"*\" * 20)\n",
    "    print(\"Epoch {} - Train Acc: {:.2f} -- Train Loss {} Test Acc {:.2f}  Test Loss {}\".format(epoch+1,\n",
    "                                                                                       train_acc * 100,\n",
    "                                                                                       train_loss,\n",
    "                                                                                       test_acc * 100,\n",
    "                                                                                       test_loss))\n",
    "    print(\"*\" * 20)\n"
   ]
  },
  {
   "cell_type": "code",
   "execution_count": null,
   "metadata": {},
   "outputs": [],
   "source": []
  },
  {
   "cell_type": "code",
   "execution_count": null,
   "metadata": {},
   "outputs": [],
   "source": []
  },
  {
   "cell_type": "code",
   "execution_count": null,
   "metadata": {},
   "outputs": [],
   "source": [
    "# save weights\n",
    "save_location = \"weights2.pkl\"\n",
    "weights = model.get_weights()\n",
    "\n",
    "with open(save_location, 'wb') as f:\n",
    "    import pickle\n",
    "    pickle.dump(weights, f)"
   ]
  },
  {
   "cell_type": "code",
   "execution_count": null,
   "metadata": {},
   "outputs": [],
   "source": []
  }
 ],
 "metadata": {
  "kernelspec": {
   "display_name": "asynfed",
   "language": "python",
   "name": "python3"
  },
  "language_info": {
   "codemirror_mode": {
    "name": "ipython",
    "version": 3
   },
   "file_extension": ".py",
   "mimetype": "text/x-python",
   "name": "python",
   "nbconvert_exporter": "python",
   "pygments_lexer": "ipython3",
   "version": "3.8.16"
  },
  "orig_nbformat": 4
 },
 "nbformat": 4,
 "nbformat_minor": 2
}
