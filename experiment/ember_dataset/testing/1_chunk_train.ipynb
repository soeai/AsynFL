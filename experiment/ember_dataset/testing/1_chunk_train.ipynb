{
 "cells": [
  {
   "cell_type": "code",
   "execution_count": 3,
   "metadata": {},
   "outputs": [
    {
     "data": {
      "text/plain": [
       "'/home/vtnthereal/working_dir/AsynFL'"
      ]
     },
     "execution_count": 3,
     "metadata": {},
     "output_type": "execute_result"
    }
   ],
   "source": [
    "import os\n",
    "import sys\n",
    "\n",
    "root = os.path.dirname(os.path.dirname(os.path.dirname(os.getcwd())))\n",
    "sys.path.append(root)\n",
    "\n",
    "root"
   ]
  },
  {
   "cell_type": "code",
   "execution_count": 4,
   "metadata": {},
   "outputs": [
    {
     "name": "stderr",
     "output_type": "stream",
     "text": [
      "2023-08-13 12:21:02.714323: I tensorflow/core/util/port.cc:110] oneDNN custom operations are on. You may see slightly different numerical results due to floating-point round-off errors from different computation orders. To turn them off, set the environment variable `TF_ENABLE_ONEDNN_OPTS=0`.\n",
      "2023-08-13 12:21:02.937331: I tensorflow/core/platform/cpu_feature_guard.cc:182] This TensorFlow binary is optimized to use available CPU instructions in performance-critical operations.\n",
      "To enable the following instructions: AVX2 AVX_VNNI FMA, in other operations, rebuild TensorFlow with the appropriate compiler flags.\n",
      "2023-08-13 12:21:04.209026: W tensorflow/compiler/tf2tensorrt/utils/py_utils.cc:38] TF-TRT Warning: Could not find TensorRT\n"
     ]
    }
   ],
   "source": [
    "from asynfed.client.frameworks.tensorflow import TensorflowFramework\n",
    "\n",
    "from experiment.ember_dataset.ember_model import EmberModel\n",
    "from experiment.ember_dataset.data_preprocessing import DataLoader\n",
    "\n"
   ]
  },
  {
   "cell_type": "code",
   "execution_count": null,
   "metadata": {},
   "outputs": [],
   "source": []
  },
  {
   "cell_type": "code",
   "execution_count": 5,
   "metadata": {},
   "outputs": [],
   "source": [
    "config = {'client_id': 'centralized-training',\n",
    " 'role': 'trainer',\n",
    " 'gpu_index': 0,\n",
    " 'tracking_point': 10000,\n",
    " 'dataset': {'chunk_index': 1, 'qod': 0.85},\n",
    " 'training_params': {'epoch': 200,\n",
    "  'batch_size': 128,\n",
    "  'regularization': 'l2',\n",
    "  'lambda_value': 0.0005,\n",
    "  'learning_rate': 0.1,\n",
    "  'beta': 0.6,\n",
    "  'decay_period': 200}}"
   ]
  },
  {
   "cell_type": "code",
   "execution_count": 9,
   "metadata": {},
   "outputs": [
    {
     "name": "stdout",
     "output_type": "stream",
     "text": [
      "60028 2381 [1.1206571455241296, 9.28794677394399]\n"
     ]
    },
    {
     "name": "stderr",
     "output_type": "stream",
     "text": [
      "2023-08-13 12:21:54.257066: I tensorflow/compiler/xla/stream_executor/cuda/cuda_gpu_executor.cc:982] could not open file to read NUMA node: /sys/bus/pci/devices/0000:01:00.0/numa_node\n",
      "Your kernel may have been built without NUMA support.\n",
      "2023-08-13 12:21:54.383456: I tensorflow/compiler/xla/stream_executor/cuda/cuda_gpu_executor.cc:982] could not open file to read NUMA node: /sys/bus/pci/devices/0000:01:00.0/numa_node\n",
      "Your kernel may have been built without NUMA support.\n",
      "2023-08-13 12:21:54.383496: I tensorflow/compiler/xla/stream_executor/cuda/cuda_gpu_executor.cc:982] could not open file to read NUMA node: /sys/bus/pci/devices/0000:01:00.0/numa_node\n",
      "Your kernel may have been built without NUMA support.\n",
      "2023-08-13 12:21:54.390091: I tensorflow/compiler/xla/stream_executor/cuda/cuda_gpu_executor.cc:982] could not open file to read NUMA node: /sys/bus/pci/devices/0000:01:00.0/numa_node\n",
      "Your kernel may have been built without NUMA support.\n",
      "2023-08-13 12:21:54.390142: I tensorflow/compiler/xla/stream_executor/cuda/cuda_gpu_executor.cc:982] could not open file to read NUMA node: /sys/bus/pci/devices/0000:01:00.0/numa_node\n",
      "Your kernel may have been built without NUMA support.\n",
      "2023-08-13 12:21:54.390156: I tensorflow/compiler/xla/stream_executor/cuda/cuda_gpu_executor.cc:982] could not open file to read NUMA node: /sys/bus/pci/devices/0000:01:00.0/numa_node\n",
      "Your kernel may have been built without NUMA support.\n",
      "2023-08-13 12:21:55.741822: I tensorflow/compiler/xla/stream_executor/cuda/cuda_gpu_executor.cc:982] could not open file to read NUMA node: /sys/bus/pci/devices/0000:01:00.0/numa_node\n",
      "Your kernel may have been built without NUMA support.\n",
      "2023-08-13 12:21:55.741893: I tensorflow/compiler/xla/stream_executor/cuda/cuda_gpu_executor.cc:982] could not open file to read NUMA node: /sys/bus/pci/devices/0000:01:00.0/numa_node\n",
      "Your kernel may have been built without NUMA support.\n",
      "2023-08-13 12:21:55.741899: I tensorflow/core/common_runtime/gpu/gpu_device.cc:1722] Could not identify NUMA node of platform GPU id 0, defaulting to 0.  Your kernel may not have been built with NUMA support.\n",
      "2023-08-13 12:21:55.741921: I tensorflow/compiler/xla/stream_executor/cuda/cuda_gpu_executor.cc:982] could not open file to read NUMA node: /sys/bus/pci/devices/0000:01:00.0/numa_node\n",
      "Your kernel may have been built without NUMA support.\n",
      "2023-08-13 12:21:55.741954: I tensorflow/core/common_runtime/gpu/gpu_device.cc:1635] Created device /job:localhost/replica:0/task:0/device:GPU:0 with 3383 MB memory:  -> device: 0, name: NVIDIA GeForce RTX 3060 Laptop GPU, pci bus id: 0000:01:00.0, compute capability: 8.6\n"
     ]
    }
   ],
   "source": [
    "train_data_loader = DataLoader(\"./../ember_data/chunk_0.pickle\")\n",
    "data_size = train_data_loader.get_dataset_size()\n",
    "class_weight = train_data_loader.get_class_weight()\n",
    "num_input_features = train_data_loader.get_num_input_features()\n",
    "print(data_size, num_input_features, class_weight)\n",
    "\n",
    "train_ds = train_data_loader.create_tensorflow_dataset()\n",
    "\n",
    "\n",
    "\n",
    "\n",
    "\n"
   ]
  },
  {
   "cell_type": "code",
   "execution_count": null,
   "metadata": {},
   "outputs": [],
   "source": []
  },
  {
   "cell_type": "code",
   "execution_count": 10,
   "metadata": {},
   "outputs": [],
   "source": [
    "epoch = 10\n",
    "batch_size = 128\n",
    "\n",
    "learning_rate_config = config.get('training_params').get('learning_rate_config', {})\n",
    "if learning_rate_config == {}:\n",
    "    learning_rate_config['fix_lr'] = True\n",
    "    learning_rate_config['initial_lr'] = 0.01\n",
    "    learning_rate_config['min_lr'] = 0.001\n",
    "    learning_rate_config['decay_steps'] = data_size * epoch / batch_size"
   ]
  },
  {
   "cell_type": "code",
   "execution_count": 11,
   "metadata": {},
   "outputs": [
    {
     "name": "stdout",
     "output_type": "stream",
     "text": [
      "lr config in the resnet model\n",
      "{'fix_lr': True, 'initial_lr': 0.01, 'min_lr': 0.001, 'decay_steps': 4689.6875}\n",
      "Model: \"model\"\n",
      "__________________________________________________________________________________________________\n",
      " Layer (type)                   Output Shape         Param #     Connected to                     \n",
      "==================================================================================================\n",
      " input_1 (InputLayer)           [(None, 2381)]       0           []                               \n",
      "                                                                                                  \n",
      " embedding (Embedding)          (None, 2381, 8)      2056        ['input_1[0][0]']                \n",
      "                                                                                                  \n",
      " conv1d (Conv1D)                (None, 158, 128)     15488       ['embedding[0][0]']              \n",
      "                                                                                                  \n",
      " conv1d_1 (Conv1D)              (None, 158, 128)     15488       ['embedding[0][0]']              \n",
      "                                                                                                  \n",
      " multiply (Multiply)            (None, 158, 128)     0           ['conv1d[0][0]',                 \n",
      "                                                                  'conv1d_1[0][0]']               \n",
      "                                                                                                  \n",
      " global_max_pooling1d (GlobalMa  (None, 128)         0           ['multiply[0][0]']               \n",
      " xPooling1D)                                                                                      \n",
      "                                                                                                  \n",
      " dense (Dense)                  (None, 128)          16512       ['global_max_pooling1d[0][0]']   \n",
      "                                                                                                  \n",
      " dense_1 (Dense)                (None, 1)            129         ['dense[0][0]']                  \n",
      "                                                                                                  \n",
      "==================================================================================================\n",
      "Total params: 49,673\n",
      "Trainable params: 49,673\n",
      "Non-trainable params: 0\n",
      "__________________________________________________________________________________________________\n",
      "Create optimizer with fix learning rate: 0.009999999776482582\n",
      "Learning rate right now (step = 0) is: 0.009999999776482582\n"
     ]
    }
   ],
   "source": [
    "# Define model\n",
    "model = EmberModel(input_features= num_input_features, output_features= 1, lr_config= learning_rate_config, class_weight= class_weight)\n"
   ]
  },
  {
   "cell_type": "code",
   "execution_count": 13,
   "metadata": {},
   "outputs": [],
   "source": [
    "# Define framework\n",
    "tensorflow_framework = TensorflowFramework(model=model,\n",
    "                                           data_size= data_size,\n",
    "                                           train_ds= train_ds,\n",
    "                                           test_ds= None,\n",
    "                                           config=config)\n"
   ]
  },
  {
   "cell_type": "code",
   "execution_count": null,
   "metadata": {},
   "outputs": [],
   "source": []
  },
  {
   "cell_type": "code",
   "execution_count": 14,
   "metadata": {},
   "outputs": [
    {
     "name": "stdout",
     "output_type": "stream",
     "text": [
      "Enter epoch 1, learning rate = 0.009999999776482582\n"
     ]
    },
    {
     "name": "stderr",
     "output_type": "stream",
     "text": [
      "2023-08-13 12:22:48.051345: I tensorflow/core/common_runtime/executor.cc:1197] [/device:CPU:0] (DEBUG INFO) Executor start aborting (this does not indicate an error and you can ignore this message): INVALID_ARGUMENT: You must feed a value for placeholder tensor 'Placeholder/_0' with dtype int32\n",
      "\t [[{{node Placeholder/_0}}]]\n",
      "2023-08-13 12:22:50.867678: I tensorflow/compiler/xla/stream_executor/cuda/cuda_dnn.cc:424] Loaded cuDNN version 8600\n",
      "2023-08-13 12:22:52.731766: I tensorflow/compiler/xla/stream_executor/cuda/cuda_blas.cc:637] TensorFloat-32 will be used for the matrix multiplication. This will only be logged once.\n",
      "2023-08-13 12:22:54.314054: I tensorflow/compiler/xla/service/service.cc:169] XLA service 0x7f4848468ce0 initialized for platform CUDA (this does not guarantee that XLA will be used). Devices:\n",
      "2023-08-13 12:22:54.314096: I tensorflow/compiler/xla/service/service.cc:177]   StreamExecutor device (0): NVIDIA GeForce RTX 3060 Laptop GPU, Compute Capability 8.6\n",
      "2023-08-13 12:22:54.502888: I ./tensorflow/compiler/jit/device_compiler.h:180] Compiled cluster using XLA!  This line is logged at most once for the lifetime of the process.\n"
     ]
    },
    {
     "name": "stdout",
     "output_type": "stream",
     "text": [
      "Epoch 1 - Train Acc: 0.46 -- Train Loss: 0.7443495988845825\n",
      "Enter epoch 2, learning rate = 0.009999999776482582\n",
      "Epoch 2 - Train Acc: 52.42 -- Train Loss: 0.44779592752456665\n",
      "Enter epoch 3, learning rate = 0.009999999776482582\n",
      "Epoch 3 - Train Acc: 69.10 -- Train Loss: 0.34667184948921204\n",
      "Enter epoch 4, learning rate = 0.009999999776482582\n",
      "Epoch 4 - Train Acc: 73.44 -- Train Loss: 0.30887749791145325\n",
      "Enter epoch 5, learning rate = 0.009999999776482582\n",
      "Epoch 5 - Train Acc: 76.34 -- Train Loss: 0.28706490993499756\n",
      "Enter epoch 6, learning rate = 0.009999999776482582\n",
      "Epoch 6 - Train Acc: 79.42 -- Train Loss: 0.261591374874115\n",
      "Enter epoch 7, learning rate = 0.009999999776482582\n",
      "Epoch 7 - Train Acc: 80.77 -- Train Loss: 0.2517411410808563\n",
      "Enter epoch 8, learning rate = 0.009999999776482582\n",
      "Epoch 8 - Train Acc: 81.77 -- Train Loss: 0.24333249032497406\n",
      "Enter epoch 9, learning rate = 0.009999999776482582\n",
      "Epoch 9 - Train Acc: 82.70 -- Train Loss: 0.23170843720436096\n",
      "Enter epoch 10, learning rate = 0.009999999776482582\n",
      "Epoch 10 - Train Acc: 83.90 -- Train Loss: 0.2267659455537796\n"
     ]
    }
   ],
   "source": [
    "epoch = 10\n",
    "test_acc = None\n",
    "test_loss = None\n",
    "for epoch in range(epoch):\n",
    "    print(f\"Enter epoch {epoch + 1}, learning rate = {tensorflow_framework.get_learning_rate()}\")\n",
    "    tensorflow_framework.model.train_loss.reset_states()\n",
    "    tensorflow_framework.model.train_performance.reset_states()\n",
    "    tensorflow_framework.model.test_loss.reset_states()\n",
    "    tensorflow_framework.model.test_performance.reset_states()\n",
    "\n",
    "    for images, labels in tensorflow_framework.train_ds:\n",
    "        train_acc, train_loss= tensorflow_framework.fit(images, labels)\n",
    "\n",
    "    print(f\"Epoch {epoch+1} - Train Acc: {(train_acc * 100):.2f} -- Train Loss: {train_loss}\")\n",
    "\n",
    "\n"
   ]
  },
  {
   "cell_type": "code",
   "execution_count": null,
   "metadata": {},
   "outputs": [],
   "source": []
  },
  {
   "cell_type": "code",
   "execution_count": 17,
   "metadata": {},
   "outputs": [
    {
     "name": "stderr",
     "output_type": "stream",
     "text": [
      "2023-08-13 12:35:58.999543: I tensorflow/core/common_runtime/executor.cc:1197] [/device:CPU:0] (DEBUG INFO) Executor start aborting (this does not indicate an error and you can ignore this message): INVALID_ARGUMENT: You must feed a value for placeholder tensor 'Placeholder/_0' with dtype int32\n",
      "\t [[{{node Placeholder/_0}}]]\n"
     ]
    },
    {
     "name": "stdout",
     "output_type": "stream",
     "text": [
      "Epoch 10 - Test Acc: 77.86 -- Test Loss: 3.0907907485961914\n"
     ]
    }
   ],
   "source": [
    "test_data_loader = DataLoader(\"./../ember_data/test_set.pickle\")\n",
    "test_ds = test_data_loader.create_tensorflow_dataset()\n",
    "\n",
    "for test_images, test_labels in test_ds:\n",
    "    test_acc, test_loss = tensorflow_framework.evaluate(test_images, test_labels)\n",
    "\n",
    "print(f\"Epoch {epoch+1} - Test Acc: {(test_acc * 100):.2f} -- Test Loss: {test_loss}\")\n"
   ]
  },
  {
   "cell_type": "code",
   "execution_count": null,
   "metadata": {},
   "outputs": [],
   "source": []
  },
  {
   "cell_type": "code",
   "execution_count": null,
   "metadata": {},
   "outputs": [],
   "source": []
  }
 ],
 "metadata": {
  "kernelspec": {
   "display_name": "asynfed",
   "language": "python",
   "name": "python3"
  },
  "language_info": {
   "codemirror_mode": {
    "name": "ipython",
    "version": 3
   },
   "file_extension": ".py",
   "mimetype": "text/x-python",
   "name": "python",
   "nbconvert_exporter": "python",
   "pygments_lexer": "ipython3",
   "version": "3.8.17"
  },
  "orig_nbformat": 4
 },
 "nbformat": 4,
 "nbformat_minor": 2
}
