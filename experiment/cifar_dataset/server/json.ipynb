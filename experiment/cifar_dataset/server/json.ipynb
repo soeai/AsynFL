{
 "cells": [
  {
   "cell_type": "code",
   "execution_count": 3,
   "metadata": {},
   "outputs": [],
   "source": [
    "import json\n"
   ]
  },
  {
   "cell_type": "code",
   "execution_count": 43,
   "metadata": {},
   "outputs": [],
   "source": [
    "\n",
    "\n",
    "conf = {\n",
    "    \"server_id\": \"\",\n",
    "    \"update_period\": 40,\n",
    "    \"ping_time\": 300,\n",
    "    \"save_log\": True,\n",
    "\n",
    "    \"stop_conditions\": {\n",
    "        \"max_version\": 300,\n",
    "        \"max_performance\": 0.95,\n",
    "        \"min_loss\": 0.02,\n",
    "    },\n",
    "\n",
    "    \"model_exchange_at\":{\n",
    "        \"performance\": 0.85,\n",
    "        \"epoch\": 100\n",
    "    },\n",
    "\n",
    "    \"cloud_storage\": {\n",
    "        \"type\": \"minio\",\n",
    "\n",
    "        \"bucket_name\": \"cifar10-5-chunks\",\n",
    "\n",
    "        \"aws_s3\": {\n",
    "            \"access_key\": \"\",\n",
    "            \"secret_key\": \"\",\n",
    "            \"region_name\": \"ap-southeast-2\",\n",
    "            },\n",
    "\n",
    "        \"minio\": {\n",
    "            \"secret_key\": \"\",\n",
    "            \"client_access_key\": \"\",\n",
    "            \"client_secret_key\": \"\",\n",
    "            \"endpoint_url\": \"\",\n",
    "            \"region_name\": \"ap-southeast-2\",\n",
    "            },\n",
    "        \n",
    "        \"cleaning_config\": {\n",
    "            \"clean_cloud_storage_period\": 180,\n",
    "            \"global_keep_version_num\": 5,\n",
    "            \"local_keep_version_num\": 3,\n",
    "        },\n",
    "    },\n",
    "\n",
    "    \"queue_consumer\": {\n",
    "        'exchange_name': 'asynfl_exchange',\n",
    "        'exchange_type': 'topic',\n",
    "        'queue_name': 'server_consumer',\n",
    "        'routing_key': 'server.#',\n",
    "        'end_point': ''\n",
    "    },\n",
    "\n",
    "    \"queue_producer\": {\n",
    "        'exchange_name': 'asynfl_exchange',\n",
    "        'exchange_type': 'topic',\n",
    "        'queue_name': 'server_queue',\n",
    "        'routing_key': 'client.#',\n",
    "        'end_point': \"\"\n",
    "    },\n",
    "\n",
    "    \"influxdb\": {\n",
    "        \"url\": \"\",\n",
    "        \"token\": \"\",\n",
    "        \"org\": \"\",\n",
    "        \"bucket_name\": \"\"\n",
    "    }\n",
    "}\n",
    "\n"
   ]
  },
  {
   "cell_type": "code",
   "execution_count": 44,
   "metadata": {},
   "outputs": [],
   "source": [
    "with open('conf.json', 'w') as json_file:\n",
    "    json.dump(conf, json_file)\n"
   ]
  },
  {
   "cell_type": "code",
   "execution_count": null,
   "metadata": {},
   "outputs": [],
   "source": []
  },
  {
   "cell_type": "code",
   "execution_count": null,
   "metadata": {},
   "outputs": [],
   "source": []
  },
  {
   "cell_type": "code",
   "execution_count": 45,
   "metadata": {},
   "outputs": [],
   "source": [
    "import uuid"
   ]
  },
  {
   "cell_type": "code",
   "execution_count": 46,
   "metadata": {},
   "outputs": [],
   "source": [
    "with open('conf.json', 'r') as json_file:\n",
    "    load_config = json.load(json_file)"
   ]
  },
  {
   "cell_type": "code",
   "execution_count": 47,
   "metadata": {},
   "outputs": [],
   "source": [
    "server_id = load_config.get('server_id') or f'server-{str(uuid.uuid4())}'\n"
   ]
  },
  {
   "cell_type": "code",
   "execution_count": 48,
   "metadata": {},
   "outputs": [
    {
     "data": {
      "text/plain": [
       "'server-30632357-2778-43e4-93f5-0db17ac6b5f9'"
      ]
     },
     "execution_count": 48,
     "metadata": {},
     "output_type": "execute_result"
    }
   ],
   "source": [
    "server_id"
   ]
  },
  {
   "cell_type": "code",
   "execution_count": 49,
   "metadata": {},
   "outputs": [],
   "source": [
    "global_keep_version = load_config.get('cloud_storage', {}).get('cleaning_config', {}).get('global_keep_version', 10)\n"
   ]
  },
  {
   "cell_type": "code",
   "execution_count": 50,
   "metadata": {},
   "outputs": [
    {
     "data": {
      "text/plain": [
       "10"
      ]
     },
     "execution_count": 50,
     "metadata": {},
     "output_type": "execute_result"
    }
   ],
   "source": [
    "global_keep_version"
   ]
  },
  {
   "cell_type": "code",
   "execution_count": null,
   "metadata": {},
   "outputs": [],
   "source": []
  }
 ],
 "metadata": {
  "kernelspec": {
   "display_name": "asynfed",
   "language": "python",
   "name": "python3"
  },
  "language_info": {
   "codemirror_mode": {
    "name": "ipython",
    "version": 3
   },
   "file_extension": ".py",
   "mimetype": "text/x-python",
   "name": "python",
   "nbconvert_exporter": "python",
   "pygments_lexer": "ipython3",
   "version": "3.9.16"
  },
  "orig_nbformat": 4
 },
 "nbformat": 4,
 "nbformat_minor": 2
}
